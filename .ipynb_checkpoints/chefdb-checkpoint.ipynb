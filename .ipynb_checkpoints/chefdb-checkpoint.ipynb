{
 "cells": [
  {
   "cell_type": "code",
   "execution_count": 24,
   "metadata": {
    "collapsed": true
   },
   "outputs": [],
   "source": [
    "import urllib\n",
    "import pandas as pd\n",
    "from bs4 import BeautifulSoup\n",
    "import re\n",
    "import time"
   ]
  },
  {
   "cell_type": "code",
   "execution_count": 25,
   "metadata": {
    "collapsed": false
   },
   "outputs": [],
   "source": [
    "res = \"http://www.chefdb.com/prov/12/0\"\n",
    "html = urllib.urlopen(res).read()\n",
    "soup = BeautifulSoup(html,\"html.parser\")\n",
    "\n",
    "executive_chefs={}\n",
    "for tr in soup.findAll(\"tr\")[6:256]:\n",
    "    name = tr.find(\"a\").renderContents()\n",
    "    \n",
    "    try:\n",
    "        years = tr.find(\"span\",{\"class\":\"minitext\"}).getText()\n",
    "    except:\n",
    "        years = \"NA\"\n",
    "    \n",
    "    link = \"http://www.chefdb.com/\"+tr.find(\"a\").get(\"href\")+\"/current\"\n",
    "    html2 = urllib.urlopen(link).read()\n",
    "    soup2 = BeautifulSoup(html2,\"html.parser\")\n",
    "    \n",
    "    lines =[]\n",
    "    for chefs in soup2.findAll(\"table\",{\"class\":\"borderall\"}):\n",
    "        for tr in chefs.findAll(\"tr\"):\n",
    "            test = tr.getText()\n",
    "            lines.append(test.split(\"\\n\"))\n",
    "        try:\n",
    "            if \"Duration\" in lines[1]:\n",
    "                try:\n",
    "                    if \"Present\" in lines[2][1]:\n",
    "                        executive_chefs[name] = [lines[2],years]\n",
    "                except:\n",
    "                    executive_chefs[name] = \"None found\"\n",
    "        except:\n",
    "            executive_chefs[name] = \"None found\""
   ]
  },
  {
   "cell_type": "code",
   "execution_count": 26,
   "metadata": {
    "collapsed": false
   },
   "outputs": [],
   "source": [
    "res = \"http://www.chefdb.com/prov/12/250\"\n",
    "html = urllib.urlopen(res).read()\n",
    "soup = BeautifulSoup(html,\"html.parser\")\n",
    "\n",
    "for tr in soup.findAll(\"tr\")[6:255]:#256\n",
    "    name = tr.find(\"a\").renderContents()\n",
    "    try:\n",
    "        years = tr.find(\"span\",{\"class\":\"minitext\"}).getText()\n",
    "    except:\n",
    "        years = \"NA\"\n",
    "        \n",
    "    link = \"http://www.chefdb.com/\"+tr.find(\"a\").get(\"href\")+\"/current\"\n",
    "    html2 = urllib.urlopen(link).read()\n",
    "    soup2 = BeautifulSoup(html2,\"html.parser\")\n",
    "    \n",
    "    lines =[]\n",
    "    for chefs in soup2.findAll(\"table\",{\"class\":\"borderall\"}):\n",
    "        for tr in chefs.findAll(\"tr\"):\n",
    "            test = tr.getText()\n",
    "            lines.append(test.split(\"\\n\"))\n",
    "        try:\n",
    "            if \"Duration\" in lines[1]:\n",
    "                try:\n",
    "                    if \"Present\" in lines[2][1]:\n",
    "                        executive_chefs[name] = [lines[2],years]\n",
    "                except:\n",
    "                    executive_chefs[name] = \"None found\"\n",
    "        except:\n",
    "            executive_chefs[name] = \"None found\""
   ]
  },
  {
   "cell_type": "code",
   "execution_count": null,
   "metadata": {
    "collapsed": true
   },
   "outputs": [],
   "source": [
    "for key,val in executive_chefs.iteritems():\n",
    "    if \"None found\" in val:\n",
    "        print key, val"
   ]
  },
  {
   "cell_type": "code",
   "execution_count": 29,
   "metadata": {
    "collapsed": false
   },
   "outputs": [],
   "source": [
    "del executive_chefs[\" Il Mulino\"]\n",
    "del executive_chefs[\" Ardeo\"]\n",
    "del executive_chefs[\" Bardeo Wine Bar &amp; Cafe\"]\n",
    "del executive_chefs[\" Acquamatta\"]\n",
    "del executive_chefs[\" Stir Food Group\"]"
   ]
  },
  {
   "cell_type": "code",
   "execution_count": null,
   "metadata": {
    "collapsed": true
   },
   "outputs": [],
   "source": [
    "df.index = [a[1:] if a[0]==\" \" else a for a in df.index.values]"
   ]
  },
  {
   "cell_type": "code",
   "execution_count": null,
   "metadata": {
    "collapsed": true
   },
   "outputs": [],
   "source": [
    "df.loc[\"Four Seasons - Washington\"][0][1] = df.loc[\"Four Seasons - Washington\"][0][1].replace(\"[\",\"\").replace(\"]\",\"\")\n",
    "df.loc[\"Felix Restaurant\"][0][1] = df.loc[\"Felix Restaurant\"][0][1].replace(\"[\",\"\").replace(\"]\",\"\")\n",
    "df.loc[\"Jaleo\"][0][1] = df.loc[\"Jaleo\"][0][1].replace(\"[\",\"\").replace(\"]\",\"\")"
   ]
  },
  {
   "cell_type": "code",
   "execution_count": 49,
   "metadata": {
    "collapsed": false
   },
   "outputs": [],
   "source": [
    "df = pd.DataFrame(executive_chefs).transpose()"
   ]
  },
  {
   "cell_type": "code",
   "execution_count": 62,
   "metadata": {
    "collapsed": false
   },
   "outputs": [],
   "source": [
    "df[\"chef\"] = [i[2] for i in df[0].values]"
   ]
  },
  {
   "cell_type": "code",
   "execution_count": 113,
   "metadata": {
    "collapsed": false
   },
   "outputs": [],
   "source": [
    "df[\"chef_years\"] = [2017-int(i[1][:4]) for i in df[0].values]"
   ]
  },
  {
   "cell_type": "code",
   "execution_count": 118,
   "metadata": {
    "collapsed": false
   },
   "outputs": [],
   "source": [
    "df[\"years_opened\"] = [2017-int(i[1:5]) if i[1].isdigit() else i for i in df[1].values]"
   ]
  },
  {
   "cell_type": "code",
   "execution_count": 122,
   "metadata": {
    "collapsed": false
   },
   "outputs": [],
   "source": [
    "df.drop([0,1],axis=1,inplace=True)"
   ]
  },
  {
   "cell_type": "code",
   "execution_count": 129,
   "metadata": {
    "collapsed": false
   },
   "outputs": [],
   "source": [
    "hc = pd.read_csv(\"hc.txt\",sep=\"\\n\")\n",
    "hc = hc[\"chef\"].values.tolist()"
   ]
  },
  {
   "cell_type": "code",
   "execution_count": 137,
   "metadata": {
    "collapsed": false
   },
   "outputs": [],
   "source": [
    "df.to_csv(\"/users/Sheena/Desktop/DSI/Michelin/chefdb.csv\",index=False,encoding=\"utf-8\")"
   ]
  },
  {
   "cell_type": "code",
   "execution_count": 138,
   "metadata": {
    "collapsed": true
   },
   "outputs": [],
   "source": [
    "df1 = pd.read_csv(\"chefdb.csv\")"
   ]
  },
  {
   "cell_type": "code",
   "execution_count": 139,
   "metadata": {
    "collapsed": true
   },
   "outputs": [],
   "source": [
    "for i in df1[\"chef\"]:\n",
    "    for x in hc:\n",
    "        if i==x:\n",
    "            print i"
   ]
  },
  {
   "cell_type": "code",
   "execution_count": null,
   "metadata": {
    "collapsed": true
   },
   "outputs": [],
   "source": []
  }
 ],
 "metadata": {
  "kernelspec": {
   "display_name": "Python 2",
   "language": "python",
   "name": "python2"
  },
  "language_info": {
   "codemirror_mode": {
    "name": "ipython",
    "version": 2
   },
   "file_extension": ".py",
   "mimetype": "text/x-python",
   "name": "python",
   "nbconvert_exporter": "python",
   "pygments_lexer": "ipython2",
   "version": "2.7.12"
  }
 },
 "nbformat": 4,
 "nbformat_minor": 0
}
