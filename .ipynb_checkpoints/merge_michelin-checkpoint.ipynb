{
 "cells": [
  {
   "cell_type": "markdown",
   "metadata": {},
   "source": [
    "# Merge files"
   ]
  },
  {
   "cell_type": "code",
   "execution_count": 120,
   "metadata": {
    "collapsed": true
   },
   "outputs": [],
   "source": [
    "import pandas as pd\n",
    "import numpy as np\n",
    "import re"
   ]
  },
  {
   "cell_type": "code",
   "execution_count": 33,
   "metadata": {
    "collapsed": false
   },
   "outputs": [],
   "source": [
    "#read test data from Google scraping\n",
    "ny_goog = pd.read_csv(\"ny_goog.csv\")\n",
    "ca_goog = pd.read_csv(\"ca_goog.csv\")\n",
    "ch_goog = pd.read_csv(\"ch_goog.csv\")"
   ]
  },
  {
   "cell_type": "code",
   "execution_count": 98,
   "metadata": {
    "collapsed": true
   },
   "outputs": [],
   "source": [
    "us_goog = pd.concat([ny_goog,ca_goog,ch_goog])"
   ]
  },
  {
   "cell_type": "code",
   "execution_count": 99,
   "metadata": {
    "collapsed": false
   },
   "outputs": [],
   "source": [
    "us_goog = us_goog.reset_index(drop=True)"
   ]
  },
  {
   "cell_type": "code",
   "execution_count": 100,
   "metadata": {
    "collapsed": false
   },
   "outputs": [],
   "source": [
    "us_goog = us_goog.applymap(lambda x: np.nan if x==\"None\" else x)"
   ]
  },
  {
   "cell_type": "code",
   "execution_count": 101,
   "metadata": {
    "collapsed": false
   },
   "outputs": [
    {
     "data": {
      "text/plain": [
       "name      17\n",
       "rev      113\n",
       "price     76\n",
       "dtype: int64"
      ]
     },
     "execution_count": 101,
     "metadata": {},
     "output_type": "execute_result"
    }
   ],
   "source": [
    "#now check null values\n",
    "us_goog.isnull().sum()"
   ]
  },
  {
   "cell_type": "code",
   "execution_count": 102,
   "metadata": {
    "collapsed": false
   },
   "outputs": [],
   "source": [
    "#drop them\n",
    "us_goog.dropna(inplace=True)"
   ]
  },
  {
   "cell_type": "code",
   "execution_count": 103,
   "metadata": {
    "collapsed": true
   },
   "outputs": [],
   "source": [
    "#let's clean the names\n",
    "def cleanName(x):\n",
    "    x = str(x).replace(\"\\n\", \"\")\n",
    "    if x[-17:].lower()=='websitedirections':\n",
    "        return x[:-17]\n",
    "    else:\n",
    "        return x"
   ]
  },
  {
   "cell_type": "code",
   "execution_count": 104,
   "metadata": {
    "collapsed": false
   },
   "outputs": [],
   "source": [
    "us_goog[\"name\"] = us_goog[\"name\"].apply(cleanName)"
   ]
  },
  {
   "cell_type": "code",
   "execution_count": 105,
   "metadata": {
    "collapsed": false
   },
   "outputs": [],
   "source": [
    "#separate rev \n",
    "us_goog[\"rating\"] = us_goog[\"rev\"].apply(lambda x: x.split(\"\\n\")[0])"
   ]
  },
  {
   "cell_type": "code",
   "execution_count": 106,
   "metadata": {
    "collapsed": true
   },
   "outputs": [],
   "source": [
    "#get the reviews if available\n",
    "def getReviews(x):\n",
    "    try:\n",
    "        return x.split(\"\\n\")[1]\n",
    "    except:\n",
    "        return np.nan"
   ]
  },
  {
   "cell_type": "code",
   "execution_count": 107,
   "metadata": {
    "collapsed": true
   },
   "outputs": [],
   "source": [
    "us_goog[\"review\"] = us_goog[\"rev\"].apply(getReviews)\n",
    "us_goog.dropna(inplace=True)"
   ]
  },
  {
   "cell_type": "code",
   "execution_count": 109,
   "metadata": {
    "collapsed": false
   },
   "outputs": [],
   "source": [
    "#let's split up the price to price and cuisine\n",
    "def getPrice(x):\n",
    "    price = x.split(\"·\")[0]\n",
    "    if price[0] == \"$\":\n",
    "        return price\n",
    "    else:\n",
    "        return np.nan"
   ]
  },
  {
   "cell_type": "code",
   "execution_count": 110,
   "metadata": {
    "collapsed": false
   },
   "outputs": [],
   "source": [
    "us_goog[\"goog_price\"] = us_goog[\"price\"].apply(getPrice)\n",
    "us_goog.dropna(inplace=True)"
   ]
  },
  {
   "cell_type": "code",
   "execution_count": 115,
   "metadata": {
    "collapsed": true
   },
   "outputs": [],
   "source": [
    "def getCuisine(x):\n",
    "    try:\n",
    "        cuisine = x.split(\"·\")[1]\n",
    "        if cuisine[0] != \"$\":\n",
    "            if \"Restaurant\" in cuisine:\n",
    "                return cuisine.replace(\"Restaurant\",\"\")\n",
    "            else:\n",
    "                return cuisine\n",
    "        else:\n",
    "            if x.split(\"·\")[0][0] != \"$\": \n",
    "                return x.split(\"·\")[0].replace(\"Restaurant\",\"\")\n",
    "    except:\n",
    "        return np.nan\n",
    "        "
   ]
  },
  {
   "cell_type": "code",
   "execution_count": 117,
   "metadata": {
    "collapsed": false
   },
   "outputs": [],
   "source": [
    "us_goog[\"cuisine\"] = us_goog[\"price\"].apply(getCuisine)\n",
    "us_goog.dropna(inplace=True)"
   ]
  },
  {
   "cell_type": "code",
   "execution_count": 136,
   "metadata": {
    "collapsed": false
   },
   "outputs": [],
   "source": [
    "def cleanReviews(x):\n",
    "    if re.findall(r\"\\d\",x):\n",
    "        return \"\".join(re.findall(r\"\\d\",x))\n",
    "    else:\n",
    "        return np.nan"
   ]
  },
  {
   "cell_type": "code",
   "execution_count": 138,
   "metadata": {
    "collapsed": false
   },
   "outputs": [],
   "source": [
    "us_goog.review = us_goog[\"review\"].apply(cleanReviews)\n",
    "us_goog.dropna(inplace=True)"
   ]
  },
  {
   "cell_type": "code",
   "execution_count": 143,
   "metadata": {
    "collapsed": false
   },
   "outputs": [],
   "source": [
    "us_goog.drop([\"rev\",\"price\"],axis=1,inplace=True)"
   ]
  },
  {
   "cell_type": "code",
   "execution_count": null,
   "metadata": {
    "collapsed": true
   },
   "outputs": [],
   "source": []
  },
  {
   "cell_type": "code",
   "execution_count": 145,
   "metadata": {
    "collapsed": false
   },
   "outputs": [],
   "source": [
    "#save clean test data\n",
    "us_goog.to_csv(\"us_goog.csv\",encoding=\"utf-8\",index=False)"
   ]
  },
  {
   "cell_type": "code",
   "execution_count": null,
   "metadata": {
    "collapsed": true
   },
   "outputs": [],
   "source": []
  }
 ],
 "metadata": {
  "kernelspec": {
   "display_name": "Python 2",
   "language": "python",
   "name": "python2"
  },
  "language_info": {
   "codemirror_mode": {
    "name": "ipython",
    "version": 2
   },
   "file_extension": ".py",
   "mimetype": "text/x-python",
   "name": "python",
   "nbconvert_exporter": "python",
   "pygments_lexer": "ipython2",
   "version": "2.7.12"
  }
 },
 "nbformat": 4,
 "nbformat_minor": 0
}
