{
 "cells": [
  {
   "cell_type": "code",
   "execution_count": 24,
   "metadata": {
    "collapsed": true
   },
   "outputs": [],
   "source": [
    "import urllib\n",
    "import pandas as pd\n",
    "from bs4 import BeautifulSoup\n",
    "import re\n",
    "import time"
   ]
  },
  {
   "cell_type": "code",
   "execution_count": 48,
   "metadata": {
    "collapsed": false
   },
   "outputs": [],
   "source": [
    "uri = \"http://www.andyhayler.com/restaurant-guide?stars_from=2&size=0\"\n",
    "html = urllib.urlopen(uri).read()\n",
    "soup = BeautifulSoup(html,\"html.parser\")"
   ]
  },
  {
   "cell_type": "code",
   "execution_count": 63,
   "metadata": {
    "collapsed": true
   },
   "outputs": [],
   "source": [
    "df = pd.DataFrame(columns=[\"name\",\"cuisine\",\"review\",\"price\"])"
   ]
  },
  {
   "cell_type": "code",
   "execution_count": 65,
   "metadata": {
    "collapsed": false
   },
   "outputs": [],
   "source": [
    "for res in soup.findAll(\"a\",{\"class\":\"rows\"}):\n",
    "    name = res.find(\"li\",{\"class\":\"name\"}).getText()\n",
    "    name = name.replace(\"\\n\",\"\").replace(\"\\t\",\"\")\n",
    "    cuisine = res.find(\"li\",{\"class\":\"cuisine \"}).getText()  \n",
    "    review = res.find(\"li\",{\"class\":\"review\"}).getText()\n",
    "    price = res.find(\"li\",{\"class\":\"price\"}).getText()\n",
    "\n",
    "    df.loc[len(df)]=[name,cuisine,review,price]"
   ]
  },
  {
   "cell_type": "code",
   "execution_count": 67,
   "metadata": {
    "collapsed": true
   },
   "outputs": [],
   "source": [
    "uri = \"http://www.andyhayler.com/restaurant-guide?country=252&city=New-York&stars_from=1&size=0\"\n",
    "html = urllib.urlopen(uri).read()\n",
    "soup = BeautifulSoup(html,\"html.parser\")"
   ]
  },
  {
   "cell_type": "code",
   "execution_count": 68,
   "metadata": {
    "collapsed": false
   },
   "outputs": [],
   "source": [
    "ny = pd.DataFrame(columns=[\"name\",\"cuisine\",\"review\",\"price\"])"
   ]
  },
  {
   "cell_type": "code",
   "execution_count": 69,
   "metadata": {
    "collapsed": true
   },
   "outputs": [],
   "source": [
    "for res in soup.findAll(\"a\",{\"class\":\"rows\"}):\n",
    "    name = res.find(\"li\",{\"class\":\"name\"}).getText()\n",
    "    name = name.replace(\"\\n\",\"\").replace(\"\\t\",\"\")\n",
    "    cuisine = res.find(\"li\",{\"class\":\"cuisine \"}).getText()  \n",
    "    review = res.find(\"li\",{\"class\":\"review\"}).getText()\n",
    "    price = res.find(\"li\",{\"class\":\"price\"}).getText()\n",
    "\n",
    "    ny.loc[len(ny)]=[name,cuisine,review,price]"
   ]
  },
  {
   "cell_type": "code",
   "execution_count": 70,
   "metadata": {
    "collapsed": false
   },
   "outputs": [
    {
     "data": {
      "text/plain": [
       "19"
      ]
     },
     "execution_count": 70,
     "metadata": {},
     "output_type": "execute_result"
    }
   ],
   "source": [
    "len(ny)"
   ]
  },
  {
   "cell_type": "code",
   "execution_count": 42,
   "metadata": {
    "collapsed": true
   },
   "outputs": [],
   "source": [
    "length = max(len(a),len(b),len(c))\n",
    "if len(a) < length:\n",
    "    a.append(\"None\")\n",
    "if len(b) < length:\n",
    "    b.append(\"None\")\n",
    "if len(c) < length:\n",
    "    c.append(\"None\")"
   ]
  },
  {
   "cell_type": "code",
   "execution_count": 43,
   "metadata": {
    "collapsed": false
   },
   "outputs": [
    {
     "data": {
      "text/plain": [
       "['hi', 'None']"
      ]
     },
     "execution_count": 43,
     "metadata": {},
     "output_type": "execute_result"
    }
   ],
   "source": [
    "a"
   ]
  },
  {
   "cell_type": "code",
   "execution_count": 44,
   "metadata": {
    "collapsed": false
   },
   "outputs": [
    {
     "data": {
      "text/plain": [
       "['hi', 'hello']"
      ]
     },
     "execution_count": 44,
     "metadata": {},
     "output_type": "execute_result"
    }
   ],
   "source": [
    "b"
   ]
  },
  {
   "cell_type": "code",
   "execution_count": 45,
   "metadata": {
    "collapsed": false
   },
   "outputs": [
    {
     "data": {
      "text/plain": [
       "['hello', 'hi']"
      ]
     },
     "execution_count": 45,
     "metadata": {},
     "output_type": "execute_result"
    }
   ],
   "source": [
    "c"
   ]
  },
  {
   "cell_type": "code",
   "execution_count": null,
   "metadata": {
    "collapsed": true
   },
   "outputs": [],
   "source": []
  }
 ],
 "metadata": {
  "kernelspec": {
   "display_name": "Python 2",
   "language": "python",
   "name": "python2"
  },
  "language_info": {
   "codemirror_mode": {
    "name": "ipython",
    "version": 2
   },
   "file_extension": ".py",
   "mimetype": "text/x-python",
   "name": "python",
   "nbconvert_exporter": "python",
   "pygments_lexer": "ipython2",
   "version": "2.7.12"
  }
 },
 "nbformat": 4,
 "nbformat_minor": 0
}
