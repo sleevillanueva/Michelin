{
 "cells": [
  {
   "cell_type": "code",
   "execution_count": 146,
   "metadata": {
    "collapsed": true
   },
   "outputs": [],
   "source": [
    "import urllib\n",
    "import pandas as pd\n",
    "from bs4 import BeautifulSoup\n",
    "import re\n",
    "import time\n",
    "import sys\n",
    "%matplotlib inline\n",
    "import seaborn as sns"
   ]
  },
  {
   "cell_type": "code",
   "execution_count": null,
   "metadata": {
    "collapsed": true
   },
   "outputs": [],
   "source": [
    "reload(sys)\n",
    "sys.setdefaultencoding(\"utf-8\")\n",
    "sys.getdefaultencoding()"
   ]
  },
  {
   "cell_type": "code",
   "execution_count": 19,
   "metadata": {
    "collapsed": true
   },
   "outputs": [],
   "source": [
    "df = pd.DataFrame(columns=[\"name\",\"stars\",\"price_range\",\"review\",\"cooking_type\",\"address\"])\n",
    "df3 = pd.DataFrame(columns=[\"name\",\"stars\",\"price_range\",\"review\",\"cooking_type\",\"address\"])"
   ]
  },
  {
   "cell_type": "code",
   "execution_count": 11,
   "metadata": {
    "collapsed": false
   },
   "outputs": [],
   "source": [
    "#for i in range(1,776):\n",
    "for i in range(301,501):\n",
    "    url = \"https://www.viamichelin.com/web/Restaurants?geoboundaries=-59.7120972,-179.6484375:82.3088925,153.28125&page=\"+str(i)\n",
    "    html = urllib.urlopen(url).read()\n",
    "    soup = BeautifulSoup(html,\"html.parser\")\n",
    "\n",
    "    for link in soup.findAll(\"div\",{\"class\":\"poi-item-name truncate\"}):\n",
    "        l = \"https://www.viamichelin.com\" + link.find(\"a\").get(\"href\")\n",
    "        html = urllib.urlopen(l).read()\n",
    "        soup = BeautifulSoup(html,\"html.parser\")\n",
    "\n",
    "        for res in soup.findAll(\"section\",{\"class\":\"datasheet\"}):\n",
    "            name = res.find(\"div\",{\"class\":\"datasheet-item datasheet-name\"}).renderContents()\n",
    "            name = name.replace(\"\\n\",\"\").replace(\"\\t\",\"\")\n",
    "            starred = res.find(\"div\",{\"class\":\"poi-item-stars\"}).findChildren()\n",
    "            try:\n",
    "                if \"star\" in str(starred[0]):\n",
    "                    if len(starred) > 1:\n",
    "                        stars = len(starred)\n",
    "                    else:\n",
    "                        stars = 1\n",
    "                else:\n",
    "                    stars = 0\n",
    "            except:\n",
    "                stars = 0\n",
    "\n",
    "            price_range = res.find(\"div\",{\"class\":\"datasheet-price\"}).getText()\n",
    "            price_range = price_range.replace(\"\\n\",\"\").replace(\"\\t\",\"\")\n",
    "            review = res.blockquote.getText()\n",
    "            review = review.replace(\"\\n\",\"\").replace(\"\\t\",\"\")\n",
    "            \n",
    "            try:\n",
    "                cooking_type = res.find(\"div\",{\"class\":\"datasheet-cooking-type\"}).renderContents()\n",
    "            except:\n",
    "                cooking_type=\"None\"\n",
    "                \n",
    "            address =res.find(\"div\",{\"class\":\"poi-item-stars\"}).findNextSibling().renderContents()\n",
    "        \n",
    "            df.loc[len(df)]=[name, stars, price_range, review, cooking_type, address]\n",
    "    time.sleep(1.09)"
   ]
  },
  {
   "cell_type": "code",
   "execution_count": 31,
   "metadata": {
    "collapsed": false
   },
   "outputs": [],
   "source": [
    "#for i in range(1,776):\n",
    "for i in range(501,776):\n",
    "    url = \"https://www.viamichelin.com/web/Restaurants?geoboundaries=-59.7120972,-179.6484375:82.3088925,153.28125&page=\"+str(i)\n",
    "    html = urllib.urlopen(url).read()\n",
    "    soup = BeautifulSoup(html,\"html.parser\")\n",
    "\n",
    "    for link in soup.findAll(\"div\",{\"class\":\"poi-item-name truncate\"}):\n",
    "        l = \"https://www.viamichelin.com\" + link.find(\"a\").get(\"href\")\n",
    "        html = urllib.urlopen(l).read()\n",
    "        soup = BeautifulSoup(html,\"html.parser\")\n",
    "\n",
    "        for res in soup.findAll(\"section\",{\"class\":\"datasheet\"}):\n",
    "            name = res.find(\"div\",{\"class\":\"datasheet-item datasheet-name\"}).renderContents()\n",
    "            name = name.replace(\"\\n\",\"\").replace(\"\\t\",\"\")\n",
    "            starred = res.find(\"div\",{\"class\":\"poi-item-stars\"}).findChildren()\n",
    "            try:\n",
    "                if \"star\" in str(starred[0]):\n",
    "                    if len(starred) > 1:\n",
    "                        stars = len(starred)\n",
    "                    else:\n",
    "                        stars = 1\n",
    "                else:\n",
    "                    stars = 0\n",
    "            except:\n",
    "                stars = 0\n",
    "\n",
    "            price_range = res.find(\"div\",{\"class\":\"datasheet-price\"}).getText()\n",
    "            price_range = price_range.replace(\"\\n\",\"\").replace(\"\\t\",\"\")\n",
    "            review = res.blockquote.getText()\n",
    "            review = review.replace(\"\\n\",\"\").replace(\"\\t\",\"\")\n",
    "            try:\n",
    "                cooking_type = res.find(\"div\",{\"class\":\"datasheet-cooking-type\"}).renderContents()\n",
    "            except:\n",
    "                cooking_type=\"None\"\n",
    "            address =res.find(\"div\",{\"class\":\"poi-item-stars\"}).findNextSibling().renderContents()\n",
    "            df3.loc[len(df3)]=[name, stars, price_range, review, cooking_type, address]\n",
    "        \n",
    "    time.sleep(2.12)"
   ]
  },
  {
   "cell_type": "code",
   "execution_count": 73,
   "metadata": {
    "collapsed": false
   },
   "outputs": [],
   "source": [
    "df.drop_duplicates(inplace=True)\n",
    "df3.drop_duplicates(inplace=True)"
   ]
  },
  {
   "cell_type": "code",
   "execution_count": 75,
   "metadata": {
    "collapsed": false
   },
   "outputs": [],
   "source": [
    "df.to_csv(\"/users/Sheena/Desktop/DSI/Michelin/mlist1.csv\",index=False,encoding=\"utf-8\")"
   ]
  },
  {
   "cell_type": "code",
   "execution_count": null,
   "metadata": {
    "collapsed": true
   },
   "outputs": [],
   "source": [
    "df3.to_csv(\"/users/Sheena/Desktop/DSI/Michelin/mlist2.csv\",index=False,encoding=\"utf-8\")"
   ]
  },
  {
   "cell_type": "code",
   "execution_count": 40,
   "metadata": {
    "collapsed": true
   },
   "outputs": [],
   "source": [
    "mlist1 = pd.read_csv(\"mlist1.csv\")"
   ]
  },
  {
   "cell_type": "code",
   "execution_count": 42,
   "metadata": {
    "collapsed": true
   },
   "outputs": [],
   "source": [
    "mlist2 = pd.read_csv(\"mlist2.csv\")"
   ]
  },
  {
   "cell_type": "code",
   "execution_count": 45,
   "metadata": {
    "collapsed": false
   },
   "outputs": [],
   "source": [
    "combined = pd.concat([mlist1,mlist2])"
   ]
  },
  {
   "cell_type": "code",
   "execution_count": 46,
   "metadata": {
    "collapsed": true
   },
   "outputs": [],
   "source": [
    "combined.drop_duplicates(inplace=True)"
   ]
  },
  {
   "cell_type": "code",
   "execution_count": 48,
   "metadata": {
    "collapsed": false
   },
   "outputs": [],
   "source": [
    "combined.to_csv(\"/users/Sheena/Desktop/DSI/Michelin/combined.csv\",index=False,encoding=\"utf-8\")"
   ]
  },
  {
   "cell_type": "code",
   "execution_count": 68,
   "metadata": {
    "collapsed": false
   },
   "outputs": [
    {
     "data": {
      "text/plain": [
       "18562"
      ]
     },
     "execution_count": 68,
     "metadata": {},
     "output_type": "execute_result"
    }
   ],
   "source": [
    "len(combined)"
   ]
  },
  {
   "cell_type": "code",
   "execution_count": 65,
   "metadata": {
    "collapsed": false
   },
   "outputs": [],
   "source": [
    "def getAvg(x):\n",
    "    price_range = [float(i) for i in re.findall(r'[1-9][0-9]*', x)]\n",
    "    avg = np.mean(price_range)\n",
    "    return avg"
   ]
  },
  {
   "cell_type": "code",
   "execution_count": 70,
   "metadata": {
    "collapsed": false
   },
   "outputs": [],
   "source": [
    "combined[\"avg\"] = combined[\"price_range\"].apply(getAvg)"
   ]
  },
  {
   "cell_type": "code",
   "execution_count": 137,
   "metadata": {
    "collapsed": false
   },
   "outputs": [],
   "source": [
    "combined[\"currency\"] = combined[\"price_range\"].apply(lambda x: re.search(\"[A-Z]{3}\", x).group(0))"
   ]
  },
  {
   "cell_type": "code",
   "execution_count": 109,
   "metadata": {
    "collapsed": false
   },
   "outputs": [],
   "source": [
    "combined[\"cooking_type\"] = combined[\"cooking_type\"].apply(lambda x: x[8:] if x[0:7].lower()==\"cuisine\" else x)"
   ]
  },
  {
   "cell_type": "code",
   "execution_count": 121,
   "metadata": {
    "collapsed": true
   },
   "outputs": [],
   "source": [
    "curr = {}\n",
    "driver = webdriver.Chrome('/users/Sheena/Documents/chromedriver')  # Optional argument, if not specified will search path.\n",
    "driver.get('http://www.google.com/xhtml');\n",
    "time.sleep(3)\n",
    "\n",
    "search_box = driver.find_element_by_name('q')\n",
    "#make sure empty\n",
    "for i in currencies:\n",
    "    search_box.clear()\n",
    "    search_box.send_keys(\"1%s to USD\"%i)\n",
    "    time.sleep(.87)\n",
    "    search_box.submit()\n",
    "    time.sleep(1.5)\n",
    "    rate = driver.find_element_by_class_name(\"vk_ans\").text\n",
    "    curr[i]=rate[:-10]"
   ]
  },
  {
   "cell_type": "code",
   "execution_count": 131,
   "metadata": {
    "collapsed": false
   },
   "outputs": [],
   "source": [
    "def getUSD(x,y):\n",
    "    for key,val in curr.iteritems():\n",
    "        if x==key:\n",
    "            return float(val)*y\n",
    "        elif x==\"USD\":\n",
    "            return y"
   ]
  },
  {
   "cell_type": "code",
   "execution_count": 133,
   "metadata": {
    "collapsed": false
   },
   "outputs": [],
   "source": [
    "combined[\"usd_avg\"] = np.vectorize(getUSD)(combined['currency'], combined['avg'])"
   ]
  },
  {
   "cell_type": "code",
   "execution_count": 140,
   "metadata": {
    "collapsed": false
   },
   "outputs": [],
   "source": [
    "combined.drop([\"price_range\",\"avg\",\"currency\"],axis=1,inplace=True)"
   ]
  },
  {
   "cell_type": "code",
   "execution_count": 141,
   "metadata": {
    "collapsed": true
   },
   "outputs": [],
   "source": [
    "combined.to_csv(\"/users/Sheena/Desktop/DSI/Michelin/combined_clean.csv\",index=False,encoding=\"utf-8\")"
   ]
  },
  {
   "cell_type": "code",
   "execution_count": 179,
   "metadata": {
    "collapsed": false
   },
   "outputs": [
    {
     "data": {
      "text/plain": [
       "<matplotlib.axes._subplots.AxesSubplot at 0x1221eeb90>"
      ]
     },
     "execution_count": 179,
     "metadata": {},
     "output_type": "execute_result"
    },
    {
     "data": {
      "image/png": "[encoded data removed]",
      "text/plain": [
       "<matplotlib.figure.Figure at 0x1222676d0>"
      ]
     },
     "metadata": {},
     "output_type": "display_data"
    }
   ],
   "source": [
    "sns.distplot(combined[((combined.address.str.contains(\"New York\"))|(combined.address.str.contains(\"Chicago\"))|\n",
    "          (combined.address.str.contains(\"San Francisco\"))\n",
    "         )&(combined.stars != 0.0)].usd_avg)"
   ]
  },
  {
   "cell_type": "code",
   "execution_count": null,
   "metadata": {
    "collapsed": true
   },
   "outputs": [],
   "source": []
  }
 ],
 "metadata": {
  "kernelspec": {
   "display_name": "Python 2",
   "language": "python",
   "name": "python2"
  },
  "language_info": {
   "codemirror_mode": {
    "name": "ipython",
    "version": 2
   },
   "file_extension": ".py",
   "mimetype": "text/x-python",
   "name": "python",
   "nbconvert_exporter": "python",
   "pygments_lexer": "ipython2",
   "version": "2.7.12"
  }
 },
 "nbformat": 4,
 "nbformat_minor": 0
}
