{
 "cells": [
  {
   "cell_type": "code",
   "execution_count": 60,
   "metadata": {
    "collapsed": true
   },
   "outputs": [],
   "source": [
    "currencies = ['EUR','GBP','CHF','HKD','BRL','SGD','CNY','SEK','DKK','MOP','PLN','NOK','CZK','HUF']"
   ]
  },
  {
   "cell_type": "code",
   "execution_count": 61,
   "metadata": {
    "collapsed": false
   },
   "outputs": [],
   "source": [
    "curr = {}\n",
    "driver = webdriver.Chrome('/users/Sheena/Documents/chromedriver')  # Optional argument, if not specified will search path.\n",
    "driver.get('http://www.google.com/xhtml');\n",
    "time.sleep(1.54)\n",
    "\n",
    "search_box = driver.find_element_by_name('q')\n",
    "#make sure empty\n",
    "for i in currencies:\n",
    "    search_box.clear()\n",
    "    search_box.send_keys(\"1%s to USD\"%i)\n",
    "    time.sleep(.87)\n",
    "    search_box.submit()\n",
    "    time.sleep(1.5)\n",
    "    rate = driver.find_element_by_class_name(\"vk_ans\").text\n",
    "    curr[i]=rate[:-10]"
   ]
  },
  {
   "cell_type": "code",
   "execution_count": 11,
   "metadata": {
    "collapsed": true
   },
   "outputs": [],
   "source": [
    "#let's check that the restaurants are not closed\n",
    "results = driver.find_element_by_class_name(\"srg\").text"
   ]
  },
  {
   "cell_type": "code",
   "execution_count": 1,
   "metadata": {
    "collapsed": true
   },
   "outputs": [],
   "source": [
    "import time\n",
    "from selenium import webdriver\n",
    "\n",
    "driver = webdriver.Chrome('/users/Sheena/Documents/chromedriver')  # Optional argument, if not specified will search path.\n",
    "driver.get('https://www.google.com/search?q=restaurants%20in%20DC&espv=2&biw=1267&bih=708&tbs=lf_msr:-1,lf_tr:-1,lf_pl:-1,lf_od:-1,lf_oh:-1,lf:1,lf_ui:9,lf_pqs:EAE&tbm=lcl&ei=_oD1V4u1NMG7eY6HkOAL&sa=N&fll=38.88230878486237,-77.0218272742676&fspn=0.16303900599923793,0.290818225226559&fz=12&oll=38.89239695,-77.03126865&ospn=0.0424884369775782,0.06660603163751944&rllag=38896324,-77022264,295&rlha=0&oz=13&qop=1&ved=0ahUKEwi0_8CA5cTPAhUGHT4KHW5jAiIQ0CcI3QE&rlfi=hd:;si:');\n",
    "#driver.get(\"https://www.google.com/search?q=restaurants%20in%20DC&espv=2&biw=1267&bih=708&tbs=lf_msr:-1,lf_tr:-1,lf_pl:-1,lf_od:-1,lf_oh:-1,lf:1,lf_ui:9,lf_pqs:EAE&tbm=lcl&ei=_oD1V4u1NMG7eY6HkOAL&sa=N&fll=38.88230878486237,-77.0218272742676&fspn=0.16303900599923793,0.290818225226559&fz=12&oll=38.89239695,-77.03126865&ospn=0.0424884369775782,0.06660603163751944&rllag=38896324,-77022264,295&rlha=0&oz=13&qop=1&ved=0ahUKEwi0_8CA5cTPAhUGHT4KHW5jAiIQ0CcI3QE&rlfi=hd:;si:#q=restaurants+in+DC&tbs=lf_msr:-1,lf_tr:-1,lf_pl:-1,lf_od:-1,lf_oh:-1,lf:1,lf_ui:9,lf_pqs:EAE&tbm=lcl&start=0&fll=38.88230878486237,-77.0218272742676&fspn=0.16303900599923793,0.290818225226559&fz=12&oll=38.89239695,-77.03126865&ospn=0.0424884369775782,0.06660603163751944&rllag=38896324,-77022264,295&rlha=0&oz=13&rlfi=hd:;si:10512066268863888038\")\n",
    "#driver.get(\"https://www.google.com/search?q=restaurants%20in%20DC&espv=2&biw=1267&bih=708&tbs=lf_msr:-1,lf_tr:-1,lf_pl:-1,lf_od:-1,lf_oh:-1,lf:1,lf_ui:9,lf_pqs:EAE&tbm=lcl&ei=_oD1V4u1NMG7eY6HkOAL&sa=N&fll=38.88230878486237,-77.0218272742676&fspn=0.16303900599923793,0.290818225226559&fz=12&oll=38.89239695,-77.03126865&ospn=0.0424884369775782,0.06660603163751944&rllag=38896324,-77022264,295&rlha=0&oz=13&qop=1&ved=0ahUKEwi0_8CA5cTPAhUGHT4KHW5jAiIQ0CcI3QE&rlfi=hd:;si:#q=restaurants+in+DC&tbs=lf_msr:-1,lf_tr:-1,lf_pl:-1,lf_od:-1,lf_oh:-1,lf:1,lf_ui:9,lf_pqs:EAE&tbm=lcl&start=60&fll=38.88230878486237,-77.0218272742676&fspn=0.16303900599923793,0.290818225226559&fz=12&oll=38.89239695,-77.03126865&ospn=0.0424884369775782,0.06660603163751944&rllag=38896324,-77022264,295&rlha=0&oz=13\")\n",
    "time.sleep(3)\n",
    "# driver.quit()"
   ]
  },
  {
   "cell_type": "code",
   "execution_count": 2,
   "metadata": {
    "collapsed": true
   },
   "outputs": [],
   "source": [
    "# determine total number of pulses currently in Alienvault OTX\n",
    "restaurants = driver.find_element_by_class_name(\"rlfl__tls\").text.split(\"\\n\")"
   ]
  },
  {
   "cell_type": "code",
   "execution_count": 4,
   "metadata": {
    "collapsed": false
   },
   "outputs": [],
   "source": [
    "import pandas as pd\n",
    "import random\n",
    "import re"
   ]
  },
  {
   "cell_type": "code",
   "execution_count": 4,
   "metadata": {
    "collapsed": true
   },
   "outputs": [],
   "source": [
    "name=[]\n",
    "address=[]\n",
    "rating=[]\n",
    "rpc=[]\n",
    "descr=[]"
   ]
  },
  {
   "cell_type": "code",
   "execution_count": 21,
   "metadata": {
    "collapsed": false
   },
   "outputs": [],
   "source": [
    "df = pd.DataFrame({\"name\":name,\"rating\":rating,\"rpc\":rpc,\"address\":address,\"descr\":descr})"
   ]
  },
  {
   "cell_type": "code",
   "execution_count": 6,
   "metadata": {
    "collapsed": true
   },
   "outputs": [],
   "source": [
    "def getDetails(start,stop,res2):\n",
    "    for i in range(start,stop):\n",
    "        if res2[i][0].isdigit() and \".\" in res2[i] and len(res2[i].split(\" \"))==1:\n",
    "            rating.append(res2[i])\n",
    "        elif u\"·\" in res2[i]:\n",
    "            rpc.append(res2[i])\n",
    "        else:\n",
    "            descr.append(res2[i])\n",
    "    \n",
    "    length = max(len(rating),len(rpc),len(descr))\n",
    "    \n",
    "    if len(rating) < length:\n",
    "        rating.append(\"None\")\n",
    "    \n",
    "    if len(rpc) < length:\n",
    "        rpc.append(\"None\")\n",
    "    \n",
    "    if len(descr) < length:\n",
    "        descr.append(\"None\")"
   ]
  },
  {
   "cell_type": "code",
   "execution_count": 7,
   "metadata": {
    "collapsed": true
   },
   "outputs": [],
   "source": [
    "res2 = [i for i in restaurants]\n",
    "for b in res2:\n",
    "    if \"closing\" in b.lower() or \"closed\" in b.lower() or \"opens at\" in b.lower() or \"opening\" in b.lower():\n",
    "        res2.remove(b)"
   ]
  },
  {
   "cell_type": "code",
   "execution_count": 8,
   "metadata": {
    "collapsed": false
   },
   "outputs": [],
   "source": [
    "name_index = [0]\n",
    "address_index=[]"
   ]
  },
  {
   "cell_type": "code",
   "execution_count": 9,
   "metadata": {
    "collapsed": true
   },
   "outputs": [],
   "source": [
    "res3 = res2[1:]"
   ]
  },
  {
   "cell_type": "code",
   "execution_count": 14,
   "metadata": {
    "collapsed": false
   },
   "outputs": [],
   "source": [
    "for x,y in enumerate(zip(res2,res3)):\n",
    "    if x < len(res2)-2:\n",
    "        if u\"·\" in y[0]:\n",
    "            if y[1][-1]==\".\":\n",
    "                address_index.append(x+2)\n",
    "                name_index.append(x+3)\n",
    "            else:\n",
    "                address_index.append(x+1)\n",
    "                name_index.append(x+2)\n",
    "del name_index[len(address_index)]"
   ]
  },
  {
   "cell_type": "code",
   "execution_count": 16,
   "metadata": {
    "collapsed": false
   },
   "outputs": [],
   "source": [
    "for a,b in zip(name_index,address_index):\n",
    "    name.append(res2[a])\n",
    "    address.append(res2[b])    "
   ]
  },
  {
   "cell_type": "code",
   "execution_count": 17,
   "metadata": {
    "collapsed": false
   },
   "outputs": [],
   "source": [
    "for s,t in zip(name_index,address_index):\n",
    "    getDetails(s+1,t,res2)"
   ]
  },
  {
   "cell_type": "code",
   "execution_count": 23,
   "metadata": {
    "collapsed": false
   },
   "outputs": [
    {
     "name": "stdout",
     "output_type": "stream",
     "text": [
      "200\n",
      "200\n",
      "200\n",
      "200\n",
      "200\n"
     ]
    }
   ],
   "source": [
    "print len(rating)\n",
    "print len(rpc)\n",
    "print len(descr)\n",
    "print len(name)\n",
    "print len(address)"
   ]
  },
  {
   "cell_type": "code",
   "execution_count": 19,
   "metadata": {
    "collapsed": false
   },
   "outputs": [],
   "source": [
    "for i in range(2,11):\n",
    "    driver.execute_script(\"window.scrollTo(0,document.body.scrollHeight);\")\n",
    "    time.sleep(1.2)\n",
    "    driver.find_element_by_link_text(str(i)).click()\n",
    "    time.sleep(random.randrange(2, 7))\n",
    "    \n",
    "    restaurants = driver.find_element_by_class_name(\"rlfl__tls\").text.split(\"\\n\")\n",
    "    time.sleep(random.randrange(2, 7))\n",
    "    \n",
    "    res2 = [i for i in restaurants]\n",
    "    for b in res2:\n",
    "        if \"closing\" in b.lower() or \"closed\" in b.lower() or \"opens\" in b.lower() or \"opening\" in b.lower():\n",
    "            res2.remove(b)\n",
    "    \n",
    "    name_index = [0]\n",
    "    address_index=[]\n",
    "    \n",
    "    res3 = res2[1:]\n",
    "    \n",
    "    for x,y in enumerate(zip(res2,res3)):\n",
    "        if x < len(res2)-2:\n",
    "            if u\"·\" in y[0]:\n",
    "                if y[1][-1]==\".\":\n",
    "                    address_index.append(x+2)\n",
    "                    name_index.append(x+3)\n",
    "                else:\n",
    "                    address_index.append(x+1)\n",
    "                    name_index.append(x+2)\n",
    "    del name_index[len(address_index)]\n",
    "    \n",
    "    for s,t in zip(name_index,address_index):\n",
    "        getDetails(s+1,t,res2)\n",
    "    \n",
    "    for a,b in zip(name_index,address_index):\n",
    "        name.append(res2[a])\n",
    "        address.append(res2[b])\n",
    "    "
   ]
  },
  {
   "cell_type": "code",
   "execution_count": 39,
   "metadata": {
    "collapsed": false
   },
   "outputs": [],
   "source": [
    "dc = [a for a,b in enumerate(df[\"address\"].apply(lambda x: 1 if re.search(\"[A-Z]{2}\", x) else 0)) if b==0]\n",
    "df.drop(df.index[dc],inplace=True)"
   ]
  },
  {
   "cell_type": "code",
   "execution_count": 47,
   "metadata": {
    "collapsed": false
   },
   "outputs": [],
   "source": [
    "df.to_csv(\"/users/Sheena/Desktop/DSI/Michelin/dc_google.csv\",index=False,encoding=\"utf-8\")"
   ]
  },
  {
   "cell_type": "code",
   "execution_count": 74,
   "metadata": {
    "collapsed": false
   },
   "outputs": [],
   "source": [
    "closed = []\n",
    "driver = webdriver.Chrome('/users/Sheena/Documents/chromedriver')  # Optional argument, if not specified will search path.\n",
    "driver.get('http://www.google.com/xhtml');\n",
    "time.sleep(3)\n",
    "\n",
    "search_box = driver.find_element_by_name('q')\n",
    "\n",
    "for a,b in enumerate(df[\"name\"].values.tolist()):\n",
    "    search_box.clear()\n",
    "    search_box.send_keys(\"%s DC\"%b)\n",
    "    time.sleep(.87)\n",
    "    search_box.submit()\n",
    "    time.sleep(1.5)\n",
    "\n",
    "    try:\n",
    "        if driver.find_element_by_class_name(\"_Gtg\").text.lower() == \"permanently closed\":\n",
    "            closed.append(a)\n",
    "    except:\n",
    "        pass"
   ]
  },
  {
   "cell_type": "code",
   "execution_count": 77,
   "metadata": {
    "collapsed": false
   },
   "outputs": [
    {
     "data": {
      "text/plain": [
       "address    1739 N St NW\n",
       "name         Tabard Inn\n",
       "rating              4.3\n",
       "rpc             · Hotel\n",
       "Name: 75, dtype: object"
      ]
     },
     "execution_count": 77,
     "metadata": {},
     "output_type": "execute_result"
    }
   ],
   "source": [
    "df.loc[75]"
   ]
  },
  {
   "cell_type": "code",
   "execution_count": 69,
   "metadata": {
    "collapsed": false
   },
   "outputs": [],
   "source": [
    "from selenium import webdriver\n",
    "from selenium.webdriver.common.desired_capabilities import DesiredCapabilities\n",
    "from selenium.webdriver.common.keys import Keys\n",
    "import time\n",
    "\n",
    "caps = DesiredCapabilities.FIREFOX\n",
    "caps[\"marionette\"] = True\n",
    "caps[\"binary\"] = \"/Applications/Firefox.app/Contents/MacOS/firefox\"\n",
    "wirepath = '/usr/local/bin/wires'"
   ]
  },
  {
   "cell_type": "code",
   "execution_count": 191,
   "metadata": {
    "collapsed": true
   },
   "outputs": [],
   "source": [
    "driver = webdriver.Firefox(capabilities=caps)"
   ]
  },
  {
   "cell_type": "code",
   "execution_count": 11,
   "metadata": {
    "collapsed": false
   },
   "outputs": [],
   "source": [
    "cam_goog = pd.DataFrame(columns=[\"name\",\"rev\",\"price\"])"
   ]
  },
  {
   "cell_type": "code",
   "execution_count": 20,
   "metadata": {
    "collapsed": true
   },
   "outputs": [],
   "source": [
    "def sleeper(y):\n",
    "    x = random.random()\n",
    "    x = y+x\n",
    "    time.sleep(x)"
   ]
  },
  {
   "cell_type": "code",
   "execution_count": 33,
   "metadata": {
    "collapsed": false
   },
   "outputs": [
    {
     "name": "stderr",
     "output_type": "stream",
     "text": [
      "/Users/Sheena/anaconda2/lib/python2.7/site-packages/ipykernel/__main__.py:34: SettingWithCopyWarning: \n",
      "A value is trying to be set on a copy of a slice from a DataFrame\n",
      "\n",
      "See the caveats in the documentation: http://pandas.pydata.org/pandas-docs/stable/indexing.html#indexing-view-versus-copy\n"
     ]
    }
   ],
   "source": [
    "driver.get('http://www.google.com/xhtml');\n",
    "sleeper(3)\n",
    "\n",
    "search_box = driver.find_element_by_name('q')\n",
    "#make sure empty\n",
    "for x in ca_missed[84:][\"name\"].values.tolist():\n",
    "    search_box.clear()\n",
    "    sleeper(2.13)\n",
    "    try:\n",
    "        search_box.send_keys(x.decode(\"utf-8\")+\" restaurant california\")\n",
    "        sleeper(3.75)\n",
    "        search_box.submit()\n",
    "    except:\n",
    "        search_box.send_keys(x.decode(\"ascii\")+\" restaurant california\")\n",
    "        sleeper(4.59)\n",
    "        search_box.submit()\n",
    "    sleeper(2.24)\n",
    "    try:\n",
    "        name = driver.find_element_by_class_name(\"_Q1n\").text\n",
    "    except:\n",
    "        name = \"None\"\n",
    "\n",
    "    try:\n",
    "        rev = driver.find_element_by_class_name(\"_A8k\").text\n",
    "    except:\n",
    "        rev=\"None\"\n",
    "\n",
    "    try:\n",
    "        price = driver.find_element_by_class_name(\"_mr\").text\n",
    "    except:\n",
    "        price=\"None\"\n",
    "    sleeper(3.46)\n",
    "\n",
    "    cam_goog.loc[len(cam_goog)] = [name, rev, price]"
   ]
  },
  {
   "cell_type": "code",
   "execution_count": 43,
   "metadata": {
    "collapsed": true
   },
   "outputs": [],
   "source": [
    "cam_goog.to_csv(\"/users/Sheena/Desktop/DSI/Michelin/cam_goog.csv\",index=False,encoding=\"utf-8\")"
   ]
  },
  {
   "cell_type": "code",
   "execution_count": 64,
   "metadata": {
    "collapsed": true
   },
   "outputs": [],
   "source": [
    "ch = pd.read_csv(\"/users/Sheena/Desktop/DSI/Michelin/ch.csv\")"
   ]
  },
  {
   "cell_type": "code",
   "execution_count": 66,
   "metadata": {
    "collapsed": true
   },
   "outputs": [],
   "source": [
    "ch_goog2 = pd.DataFrame(columns=[\"name\",\"rev\",\"price\"])"
   ]
  },
  {
   "cell_type": "code",
   "execution_count": 205,
   "metadata": {
    "collapsed": true
   },
   "outputs": [],
   "source": [
    "post_goog = pd.DataFrame(columns=[\"name\",\"rev\",\"price\"])"
   ]
  },
  {
   "cell_type": "code",
   "execution_count": 209,
   "metadata": {
    "collapsed": false
   },
   "outputs": [],
   "source": [
    "#driver.get('http://www.google.com/xhtml');\n",
    "sleeper(3)\n",
    "\n",
    "search_box = driver.find_element_by_name('q')\n",
    "#make sure empty\n",
    "for x in washingtonian[1:4]:\n",
    "    search_box.clear()\n",
    "    sleeper(1.45)\n",
    "    try:\n",
    "        search_box.send_keys(x)\n",
    "        sleeper(1.90)\n",
    "        search_box.send_keys(\" dc\")\n",
    "        search_box.submit()\n",
    "    except:\n",
    "        search_box.send_keys(x.decode(\"ascii\"))\n",
    "        sleeper(1.90)\n",
    "        search_box.send_keys(\" dc\")\n",
    "        search_box.submit()\n",
    "    sleeper(2.65)\n",
    "    try:\n",
    "        rev = driver.find_element_by_class_name(\"_A8k\").text\n",
    "    except:\n",
    "        rev=\"None\"\n",
    "\n",
    "    try:\n",
    "        price = driver.find_element_by_class_name(\"_mr\").text\n",
    "    except:\n",
    "        price=\"None\"\n",
    "    sleeper(4.0)\n",
    "\n",
    "    post_goog.loc[len(post_goog)] = [x, rev, price]"
   ]
  },
  {
   "cell_type": "code",
   "execution_count": 204,
   "metadata": {
    "collapsed": false
   },
   "outputs": [],
   "source": [
    "post_goog.to_csv(\"/users/Sheena/Desktop/DSI/Michelin/post_goog.csv\",index=False,encoding=\"utf-8\")"
   ]
  },
  {
   "cell_type": "code",
   "execution_count": 73,
   "metadata": {
    "collapsed": true
   },
   "outputs": [],
   "source": [
    "ch_goog2.to_csv(\"/users/Sheena/Desktop/DSI/Michelin/ch_goog2.csv\",index=False,encoding=\"utf-8\")"
   ]
  },
  {
   "cell_type": "code",
   "execution_count": 114,
   "metadata": {
    "collapsed": true
   },
   "outputs": [],
   "source": [
    "us_merged = pd.read_csv(\"/users/Sheena/Desktop/DSI/Michelin/us_merged.csv\")"
   ]
  },
  {
   "cell_type": "code",
   "execution_count": 163,
   "metadata": {
    "collapsed": true
   },
   "outputs": [],
   "source": [
    "chefdb = pd.DataFrame(columns=[\"name\",\"chef\",\"year\"])"
   ]
  },
  {
   "cell_type": "code",
   "execution_count": 164,
   "metadata": {
    "collapsed": false
   },
   "outputs": [],
   "source": [
    "driver = webdriver.Firefox(capabilities=caps)"
   ]
  },
  {
   "cell_type": "code",
   "execution_count": null,
   "metadata": {
    "collapsed": true
   },
   "outputs": [],
   "source": [
    "for z in us_merged[us_merged.stars!=0.0].name.tolist():\n",
    "    driver.get('http://www.chefdb.com/')\n",
    "    time.sleep(1)\n",
    "\n",
    "    search_box = driver.find_element_by_class_name(\"swap_value\")\n",
    "    search_box.clear()\n",
    "    search_box.send_keys(z)\n",
    "    sleeper(1)\n",
    "    search_box.submit()\n",
    "    sleeper(3)\n",
    "    \n",
    "    string = driver.find_element_by_class_name(\"formborder\").text.split(\"\\n\")\n",
    "    count = 0\n",
    "    for i in string:\n",
    "        if count < len(string)-1:\n",
    "            if i[0] == \"(\":\n",
    "                year = i\n",
    "            else:\n",
    "                count+=1\n",
    "        else:\n",
    "            year = \"None\"\n",
    "    try:\n",
    "        driver.find_elements_by_css_selector(\"input[type='radio'][value='current']\")[0].click()\n",
    "        sleeper(1)\n",
    "        \n",
    "        back = driver.find_element_by_class_name(\"borderall\").text.split(\"\\n\")\n",
    "        if back[0] == \"Back of the House\":\n",
    "            chef = back[2]\n",
    "        else:\n",
    "            chef=\"None\"\n",
    "    except:\n",
    "        chef = \"Closed\"\n",
    "    \n",
    "    chefdb.loc[len(chefdb)] = [z, chef, year]"
   ]
  },
  {
   "cell_type": "code",
   "execution_count": 116,
   "metadata": {
    "collapsed": false
   },
   "outputs": [],
   "source": [
    "#driver.find_elements_by_css_selector(\"input[type='radio'][value='current']\")[0].click()"
   ]
  },
  {
   "cell_type": "code",
   "execution_count": 122,
   "metadata": {
    "collapsed": false
   },
   "outputs": [],
   "source": [
    "string = driver.find_element_by_class_name(\"formborder\").text.split(\"\\n\")"
   ]
  },
  {
   "cell_type": "code",
   "execution_count": 147,
   "metadata": {
    "collapsed": true
   },
   "outputs": [],
   "source": [
    "string = driver.find_element_by_class_name(\"borderall\").text.split(\"\\n\")"
   ]
  },
  {
   "cell_type": "code",
   "execution_count": 168,
   "metadata": {
    "collapsed": true
   },
   "outputs": [],
   "source": [
    "import urllib\n",
    "import pandas as pd\n",
    "from bs4 import BeautifulSoup\n",
    "import re\n",
    "import time"
   ]
  },
  {
   "cell_type": "code",
   "execution_count": 169,
   "metadata": {
    "collapsed": false
   },
   "outputs": [],
   "source": [
    "uri = \"https://www.washingtonian.com/2016/02/08/100-very-best-restaurants/\"\n",
    "html = urllib.urlopen(uri).read()\n",
    "soup = BeautifulSoup(html,\"html.parser\")"
   ]
  },
  {
   "cell_type": "code",
   "execution_count": 170,
   "metadata": {
    "collapsed": true
   },
   "outputs": [],
   "source": [
    "washingtonian=[]\n",
    "for res in soup.findAll(\"tr\")[1:]:\n",
    "    name = res.find(\"span\",{\"class\":\"name\"}).getText()\n",
    "    for i in res.findAll(\"td\")[3]:\n",
    "        if i==\"DC\":\n",
    "            washingtonian.append(name)"
   ]
  },
  {
   "cell_type": "code",
   "execution_count": 171,
   "metadata": {
    "collapsed": false
   },
   "outputs": [
    {
     "data": {
      "text/plain": [
       "[u'Fiola Mare',\n",
       " u'Komi',\n",
       " u'Little Serow',\n",
       " u'Convivial',\n",
       " u'Rasika and Rasika West End',\n",
       " u'Plume',\n",
       " u'Bad Saint',\n",
       " u'Casa Luca',\n",
       " u'Izakaya Seki',\n",
       " u'The Source',\n",
       " u'Masseria',\n",
       " u'Garrison',\n",
       " u'Proof',\n",
       " u'Maketto',\n",
       " u'Blue Duck Tavern',\n",
       " u'Bistro Bis',\n",
       " u'Central Michel Richard',\n",
       " u'Marcel\\u2019s',\n",
       " u'Rose\\u2019s Luxury',\n",
       " u'Minibar',\n",
       " u'Fiola',\n",
       " u'Estadio',\n",
       " u'Sushi Capitol',\n",
       " u'The Riggsby',\n",
       " u'Le Diplomate',\n",
       " u'Bibiana',\n",
       " u'2Amys',\n",
       " u'Obelisk',\n",
       " u'DBGB Kitchen and Bar',\n",
       " u'Mintwood Place',\n",
       " u'The Red Hen',\n",
       " u'Iron Gate',\n",
       " u'Del Campo',\n",
       " u'The Bombay Club',\n",
       " u'Thip Khao',\n",
       " u'Osteria Morini',\n",
       " u'The Dabney',\n",
       " u'Momofuku CCDC',\n",
       " u'Etto',\n",
       " u'Zaytinya',\n",
       " u'Ghibellina',\n",
       " u'Baby Wale',\n",
       " u'Graffiato',\n",
       " u'Hank\\u2019s Oyster Bar',\n",
       " u'Daikaya Ramen',\n",
       " u'Crane & Turtle',\n",
       " u'Johnny\\u2019s Half Shell',\n",
       " u'Centrolina',\n",
       " u'Toki Underground',\n",
       " u'China Chilcano',\n",
       " u'G by Mike Isabella',\n",
       " u'Chez Billy and Chez Billy Sud',\n",
       " u'Equinox',\n",
       " u'Et Voila!',\n",
       " u'Ardeo & Bardeo',\n",
       " u'The Partisan',\n",
       " u'Brasserie Beck',\n",
       " u'Pearl Dive Oyster Palace',\n",
       " u'Doi Moi',\n",
       " u'Ripple',\n",
       " u'BlackSalt',\n",
       " u'Compass Rose',\n",
       " u'Lupo Verde']"
      ]
     },
     "execution_count": 171,
     "metadata": {},
     "output_type": "execute_result"
    }
   ],
   "source": []
  },
  {
   "cell_type": "code",
   "execution_count": null,
   "metadata": {
    "collapsed": true
   },
   "outputs": [],
   "source": []
  }
 ],
 "metadata": {
  "kernelspec": {
   "display_name": "Python 2",
   "language": "python",
   "name": "python2"
  },
  "language_info": {
   "codemirror_mode": {
    "name": "ipython",
    "version": 2
   },
   "file_extension": ".py",
   "mimetype": "text/x-python",
   "name": "python",
   "nbconvert_exporter": "python",
   "pygments_lexer": "ipython2",
   "version": "2.7.12"
  }
 },
 "nbformat": 4,
 "nbformat_minor": 0
}
