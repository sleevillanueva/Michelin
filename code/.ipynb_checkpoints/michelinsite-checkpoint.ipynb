{
 "cells": [
  {
   "cell_type": "code",
   "execution_count": 265,
   "metadata": {
    "collapsed": false
   },
   "outputs": [],
   "source": [
    "import urllib\n",
    "import pandas as pd\n",
    "from bs4 import BeautifulSoup\n",
    "import re\n",
    "import time\n",
    "import sys\n",
    "%matplotlib inline\n",
    "import seaborn as sns\n",
    "from selenium import webdriver\n",
    "import random"
   ]
  },
  {
   "cell_type": "code",
   "execution_count": null,
   "metadata": {
    "collapsed": true
   },
   "outputs": [],
   "source": [
    "reload(sys)\n",
    "sys.setdefaultencoding(\"utf-8\")\n",
    "sys.getdefaultencoding()"
   ]
  },
  {
   "cell_type": "code",
   "execution_count": 19,
   "metadata": {
    "collapsed": true
   },
   "outputs": [],
   "source": [
    "df = pd.DataFrame(columns=[\"name\",\"stars\",\"price_range\",\"review\",\"cooking_type\",\"address\"])"
   ]
  },
  {
   "cell_type": "code",
   "execution_count": 11,
   "metadata": {
    "collapsed": false
   },
   "outputs": [],
   "source": [
    "for i in range(1,776):\n",
    "    url = \"https://www.viamichelin.com/web/Restaurants?geoboundaries=-59.7120972,-179.6484375:82.3088925,153.28125&page=\"+str(i)\n",
    "    html = urllib.urlopen(url).read()\n",
    "    soup = BeautifulSoup(html,\"html.parser\")\n",
    "\n",
    "    for link in soup.findAll(\"div\",{\"class\":\"poi-item-name truncate\"}):\n",
    "        l = \"https://www.viamichelin.com\" + link.find(\"a\").get(\"href\")\n",
    "        html = urllib.urlopen(l).read()\n",
    "        soup = BeautifulSoup(html,\"html.parser\")\n",
    "\n",
    "        for res in soup.findAll(\"section\",{\"class\":\"datasheet\"}):\n",
    "            name = res.find(\"div\",{\"class\":\"datasheet-item datasheet-name\"}).renderContents()\n",
    "            name = name.replace(\"\\n\",\"\").replace(\"\\t\",\"\")\n",
    "            starred = res.find(\"div\",{\"class\":\"poi-item-stars\"}).findChildren()\n",
    "            try:\n",
    "                if \"star\" in str(starred[0]):\n",
    "                    if len(starred) > 1:\n",
    "                        stars = len(starred)\n",
    "                    else:\n",
    "                        stars = 1\n",
    "                else:\n",
    "                    stars = 0\n",
    "            except:\n",
    "                stars = 0\n",
    "\n",
    "            price_range = res.find(\"div\",{\"class\":\"datasheet-price\"}).getText()\n",
    "            price_range = price_range.replace(\"\\n\",\"\").replace(\"\\t\",\"\")\n",
    "            review = res.blockquote.getText()\n",
    "            review = review.replace(\"\\n\",\"\").replace(\"\\t\",\"\")\n",
    "            \n",
    "            try:\n",
    "                cooking_type = res.find(\"div\",{\"class\":\"datasheet-cooking-type\"}).renderContents()\n",
    "            except:\n",
    "                cooking_type=\"None\"\n",
    "                \n",
    "            address =res.find(\"div\",{\"class\":\"poi-item-stars\"}).findNextSibling().renderContents()\n",
    "        \n",
    "            df.loc[len(df)]=[name, stars, price_range, review, cooking_type, address]\n",
    "    time.sleep(1.09)"
   ]
  },
  {
   "cell_type": "code",
   "execution_count": 73,
   "metadata": {
    "collapsed": false
   },
   "outputs": [],
   "source": [
    "df.drop_duplicates(inplace=True)\n",
    "#df3.drop_duplicates(inplace=True)"
   ]
  },
  {
   "cell_type": "code",
   "execution_count": 75,
   "metadata": {
    "collapsed": false
   },
   "outputs": [],
   "source": [
    "#df.to_csv(\"/users/Sheena/Desktop/DSI/Michelin/assets/mlist1.csv\",index=False,encoding=\"utf-8\")\n",
    "#df3.to_csv(\"/users/Sheena/Desktop/DSI/Michelin/assets/mlist2.csv\",index=False,encoding=\"utf-8\")"
   ]
  },
  {
   "cell_type": "code",
   "execution_count": 40,
   "metadata": {
    "collapsed": true
   },
   "outputs": [],
   "source": [
    "#mlist1 = pd.read_csv(\"../assets/mlist1.csv\")\n",
    "#mlist2 = pd.read_csv(\"../assets/mlist2.csv\")"
   ]
  },
  {
   "cell_type": "code",
   "execution_count": 45,
   "metadata": {
    "collapsed": false
   },
   "outputs": [],
   "source": [
    "#combined = pd.concat([mlist1,mlist2])\n",
    "#combined.drop_duplicates(inplace=True)"
   ]
  },
  {
   "cell_type": "code",
   "execution_count": null,
   "metadata": {
    "collapsed": true
   },
   "outputs": [],
   "source": [
    "df.to_csv(\"/users/Sheena/Desktop/DSI/Michelin/assets/combined_copy.csv\",index=False,encoding=\"utf-8\")"
   ]
  },
  {
   "cell_type": "code",
   "execution_count": 48,
   "metadata": {
    "collapsed": false
   },
   "outputs": [],
   "source": [
    "combined.to_csv(\"/users/Sheena/Desktop/DSI/Michelin/combined.csv\",index=False,encoding=\"utf-8\")"
   ]
  },
  {
   "cell_type": "code",
   "execution_count": null,
   "metadata": {
    "collapsed": true
   },
   "outputs": [],
   "source": [
    "combined= pd.read_csv(\"../assets/combined.csv\")"
   ]
  },
  {
   "cell_type": "code",
   "execution_count": 65,
   "metadata": {
    "collapsed": false
   },
   "outputs": [],
   "source": [
    "def getAvg(x):\n",
    "    price_range = [float(i) for i in re.findall(r'[1-9][0-9]*', x)]\n",
    "    avg = np.mean(price_range)\n",
    "    return avg"
   ]
  },
  {
   "cell_type": "code",
   "execution_count": 70,
   "metadata": {
    "collapsed": false
   },
   "outputs": [],
   "source": [
    "combined[\"avg\"] = combined[\"price_range\"].apply(getAvg)"
   ]
  },
  {
   "cell_type": "code",
   "execution_count": 137,
   "metadata": {
    "collapsed": false
   },
   "outputs": [],
   "source": [
    "combined[\"currency\"] = combined[\"price_range\"].apply(lambda x: re.search(\"[A-Z]{3}\", x).group(0))"
   ]
  },
  {
   "cell_type": "code",
   "execution_count": 109,
   "metadata": {
    "collapsed": false
   },
   "outputs": [],
   "source": [
    "combined[\"cooking_type\"] = combined[\"cooking_type\"].apply(lambda x: x[8:] if x[0:7].lower()==\"cuisine\" else x)"
   ]
  },
  {
   "cell_type": "code",
   "execution_count": 255,
   "metadata": {
    "collapsed": true
   },
   "outputs": [],
   "source": [
    "def sleeper(y):\n",
    "    x = random.random()\n",
    "    x = y+x\n",
    "    time.sleep(x)"
   ]
  },
  {
   "cell_type": "code",
   "execution_count": 121,
   "metadata": {
    "collapsed": true
   },
   "outputs": [],
   "source": [
    "curr = {}\n",
    "driver = webdriver.Chrome('/users/Sheena/Documents/chromedriver')  # Optional argument, if not specified will search path.\n",
    "driver.get('http://www.google.com/xhtml');\n",
    "sleeper(3)\n",
    "\n",
    "search_box = driver.find_element_by_name('q')\n",
    "#make sure empty\n",
    "for i in currencies:\n",
    "    search_box.clear()\n",
    "    search_box.send_keys(\"1%s to USD\"%i)\n",
    "    sleeper(1)\n",
    "    search_box.submit()\n",
    "    sleeper(1)\n",
    "    rate = driver.find_element_by_class_name(\"vk_ans\").text\n",
    "    curr[i]=rate[:-10]\n",
    "    sleeper(1)"
   ]
  },
  {
   "cell_type": "code",
   "execution_count": 131,
   "metadata": {
    "collapsed": false
   },
   "outputs": [],
   "source": [
    "def getUSD(x,y):\n",
    "    for key,val in curr.iteritems():\n",
    "        if x==key:\n",
    "            return float(val)*y\n",
    "        elif x==\"USD\":\n",
    "            return y"
   ]
  },
  {
   "cell_type": "code",
   "execution_count": 133,
   "metadata": {
    "collapsed": false
   },
   "outputs": [],
   "source": [
    "combined[\"usd_avg\"] = np.vectorize(getUSD)(combined['currency'], combined['avg'])"
   ]
  },
  {
   "cell_type": "code",
   "execution_count": 140,
   "metadata": {
    "collapsed": false
   },
   "outputs": [],
   "source": [
    "combined.drop([\"price_range\",\"avg\",\"currency\"],axis=1,inplace=True)"
   ]
  },
  {
   "cell_type": "code",
   "execution_count": 141,
   "metadata": {
    "collapsed": true
   },
   "outputs": [],
   "source": [
    "combined.to_csv(\"/users/Sheena/Desktop/DSI/Michelin/combined_clean.csv\",index=False,encoding=\"utf-8\")"
   ]
  },
  {
   "cell_type": "code",
   "execution_count": 179,
   "metadata": {
    "collapsed": false
   },
   "outputs": [
    {
     "data": {
      "text/plain": [
       "<matplotlib.axes._subplots.AxesSubplot at 0x1221eeb90>"
      ]
     },
     "execution_count": 179,
     "metadata": {},
     "output_type": "execute_result"
    },
    {
     "data": {
      "image/png": "[encoded data removed]",
      "text/plain": [
       "<matplotlib.figure.Figure at 0x1222676d0>"
      ]
     },
     "metadata": {},
     "output_type": "display_data"
    }
   ],
   "source": [
    "sns.distplot(combined[((combined.address.str.contains(\"New York\"))|(combined.address.str.contains(\"Chicago\"))|\n",
    "          (combined.address.str.contains(\"San Francisco\"))\n",
    "         )&(combined.stars != 0.0)].usd_avg)"
   ]
  },
  {
   "cell_type": "code",
   "execution_count": 811,
   "metadata": {
    "collapsed": false
   },
   "outputs": [
    {
     "data": {
      "text/plain": [
       "<matplotlib.axes._subplots.AxesSubplot at 0x1237af3d0>"
      ]
     },
     "execution_count": 811,
     "metadata": {},
     "output_type": "execute_result"
    },
    {
     "data": {
      "image/png": "[encoded data removed]",
      "text/plain": [
       "<matplotlib.figure.Figure at 0x12371e910>"
      ]
     },
     "metadata": {},
     "output_type": "display_data"
    }
   ],
   "source": [
    "sns.distplot(combined[(combined.stars != 0.0)].usd_avg)"
   ]
  },
  {
   "cell_type": "code",
   "execution_count": 194,
   "metadata": {
    "collapsed": false
   },
   "outputs": [],
   "source": [
    "cuisine_stars = pd.DataFrame(combined[(combined[\"address\"].str.contains(\"New York\")) & (combined.stars!=0.0)].groupby(\"cooking_type\").usd_avg.min())"
   ]
  },
  {
   "cell_type": "code",
   "execution_count": 200,
   "metadata": {
    "collapsed": false
   },
   "outputs": [
    {
     "data": {
      "text/html": [
       "<div>\n",
       "<table border=\"1\" class=\"dataframe\">\n",
       "  <thead>\n",
       "    <tr style=\"text-align: right;\">\n",
       "      <th></th>\n",
       "      <th>usd_avg</th>\n",
       "      <th>usd_avg</th>\n",
       "    </tr>\n",
       "  </thead>\n",
       "  <tbody>\n",
       "    <tr>\n",
       "      <th>American</th>\n",
       "      <td>18.5</td>\n",
       "      <td>37.0</td>\n",
       "    </tr>\n",
       "    <tr>\n",
       "      <th>Argentinian</th>\n",
       "      <td>37.0</td>\n",
       "      <td>NaN</td>\n",
       "    </tr>\n",
       "    <tr>\n",
       "      <th>Asian</th>\n",
       "      <td>37.0</td>\n",
       "      <td>NaN</td>\n",
       "    </tr>\n",
       "    <tr>\n",
       "      <th>Austrian</th>\n",
       "      <td>37.0</td>\n",
       "      <td>62.0</td>\n",
       "    </tr>\n",
       "    <tr>\n",
       "      <th>Barbecue</th>\n",
       "      <td>18.5</td>\n",
       "      <td>NaN</td>\n",
       "    </tr>\n",
       "    <tr>\n",
       "      <th>Belgian</th>\n",
       "      <td>37.0</td>\n",
       "      <td>NaN</td>\n",
       "    </tr>\n",
       "    <tr>\n",
       "      <th>Burmese</th>\n",
       "      <td>18.5</td>\n",
       "      <td>NaN</td>\n",
       "    </tr>\n",
       "    <tr>\n",
       "      <th>Chinese</th>\n",
       "      <td>18.5</td>\n",
       "      <td>37.0</td>\n",
       "    </tr>\n",
       "    <tr>\n",
       "      <th>Contemporary</th>\n",
       "      <td>18.5</td>\n",
       "      <td>62.0</td>\n",
       "    </tr>\n",
       "    <tr>\n",
       "      <th>Deli</th>\n",
       "      <td>18.5</td>\n",
       "      <td>NaN</td>\n",
       "    </tr>\n",
       "    <tr>\n",
       "      <th>Eastern European</th>\n",
       "      <td>18.5</td>\n",
       "      <td>NaN</td>\n",
       "    </tr>\n",
       "    <tr>\n",
       "      <th>Ethiopian</th>\n",
       "      <td>18.5</td>\n",
       "      <td>NaN</td>\n",
       "    </tr>\n",
       "    <tr>\n",
       "      <th>European</th>\n",
       "      <td>112.5</td>\n",
       "      <td>NaN</td>\n",
       "    </tr>\n",
       "    <tr>\n",
       "      <th>French</th>\n",
       "      <td>37.0</td>\n",
       "      <td>62.0</td>\n",
       "    </tr>\n",
       "    <tr>\n",
       "      <th>Fusion</th>\n",
       "      <td>37.0</td>\n",
       "      <td>62.0</td>\n",
       "    </tr>\n",
       "    <tr>\n",
       "      <th>Gastropub</th>\n",
       "      <td>37.0</td>\n",
       "      <td>62.0</td>\n",
       "    </tr>\n",
       "    <tr>\n",
       "      <th>Greek</th>\n",
       "      <td>18.5</td>\n",
       "      <td>NaN</td>\n",
       "    </tr>\n",
       "    <tr>\n",
       "      <th>Indian</th>\n",
       "      <td>18.5</td>\n",
       "      <td>37.0</td>\n",
       "    </tr>\n",
       "    <tr>\n",
       "      <th>International</th>\n",
       "      <td>37.0</td>\n",
       "      <td>NaN</td>\n",
       "    </tr>\n",
       "    <tr>\n",
       "      <th>Italian</th>\n",
       "      <td>18.5</td>\n",
       "      <td>112.5</td>\n",
       "    </tr>\n",
       "    <tr>\n",
       "      <th>Jamaican</th>\n",
       "      <td>37.0</td>\n",
       "      <td>NaN</td>\n",
       "    </tr>\n",
       "    <tr>\n",
       "      <th>Japanese</th>\n",
       "      <td>18.5</td>\n",
       "      <td>62.0</td>\n",
       "    </tr>\n",
       "    <tr>\n",
       "      <th>Korean</th>\n",
       "      <td>18.5</td>\n",
       "      <td>112.5</td>\n",
       "    </tr>\n",
       "    <tr>\n",
       "      <th>Latin American</th>\n",
       "      <td>37.0</td>\n",
       "      <td>NaN</td>\n",
       "    </tr>\n",
       "    <tr>\n",
       "      <th>Lebanese</th>\n",
       "      <td>18.5</td>\n",
       "      <td>NaN</td>\n",
       "    </tr>\n",
       "    <tr>\n",
       "      <th>Malaysian</th>\n",
       "      <td>18.5</td>\n",
       "      <td>NaN</td>\n",
       "    </tr>\n",
       "    <tr>\n",
       "      <th>Mediterranean</th>\n",
       "      <td>37.0</td>\n",
       "      <td>62.0</td>\n",
       "    </tr>\n",
       "    <tr>\n",
       "      <th>Mexican</th>\n",
       "      <td>18.5</td>\n",
       "      <td>NaN</td>\n",
       "    </tr>\n",
       "    <tr>\n",
       "      <th>Middle Eastern</th>\n",
       "      <td>37.0</td>\n",
       "      <td>NaN</td>\n",
       "    </tr>\n",
       "    <tr>\n",
       "      <th>Moroccan</th>\n",
       "      <td>18.5</td>\n",
       "      <td>NaN</td>\n",
       "    </tr>\n",
       "    <tr>\n",
       "      <th>North African</th>\n",
       "      <td>18.5</td>\n",
       "      <td>NaN</td>\n",
       "    </tr>\n",
       "    <tr>\n",
       "      <th>Persian</th>\n",
       "      <td>37.0</td>\n",
       "      <td>NaN</td>\n",
       "    </tr>\n",
       "    <tr>\n",
       "      <th>Peruvian</th>\n",
       "      <td>37.0</td>\n",
       "      <td>NaN</td>\n",
       "    </tr>\n",
       "    <tr>\n",
       "      <th>Pizza</th>\n",
       "      <td>18.5</td>\n",
       "      <td>NaN</td>\n",
       "    </tr>\n",
       "    <tr>\n",
       "      <th>Portuguese</th>\n",
       "      <td>37.0</td>\n",
       "      <td>NaN</td>\n",
       "    </tr>\n",
       "    <tr>\n",
       "      <th>Russian</th>\n",
       "      <td>37.0</td>\n",
       "      <td>NaN</td>\n",
       "    </tr>\n",
       "    <tr>\n",
       "      <th>Scandinavian</th>\n",
       "      <td>112.5</td>\n",
       "      <td>112.5</td>\n",
       "    </tr>\n",
       "    <tr>\n",
       "      <th>Seafood</th>\n",
       "      <td>37.0</td>\n",
       "      <td>112.5</td>\n",
       "    </tr>\n",
       "    <tr>\n",
       "      <th>South African</th>\n",
       "      <td>37.0</td>\n",
       "      <td>NaN</td>\n",
       "    </tr>\n",
       "    <tr>\n",
       "      <th>Southern</th>\n",
       "      <td>18.5</td>\n",
       "      <td>NaN</td>\n",
       "    </tr>\n",
       "    <tr>\n",
       "      <th>Spanish</th>\n",
       "      <td>18.5</td>\n",
       "      <td>62.0</td>\n",
       "    </tr>\n",
       "    <tr>\n",
       "      <th>Sri Lankan</th>\n",
       "      <td>18.5</td>\n",
       "      <td>NaN</td>\n",
       "    </tr>\n",
       "    <tr>\n",
       "      <th>Steakhouse</th>\n",
       "      <td>37.0</td>\n",
       "      <td>112.5</td>\n",
       "    </tr>\n",
       "    <tr>\n",
       "      <th>Thai</th>\n",
       "      <td>18.5</td>\n",
       "      <td>37.0</td>\n",
       "    </tr>\n",
       "    <tr>\n",
       "      <th>Turkish</th>\n",
       "      <td>37.0</td>\n",
       "      <td>NaN</td>\n",
       "    </tr>\n",
       "    <tr>\n",
       "      <th>Vegan</th>\n",
       "      <td>37.0</td>\n",
       "      <td>NaN</td>\n",
       "    </tr>\n",
       "    <tr>\n",
       "      <th>Vegetarian</th>\n",
       "      <td>37.0</td>\n",
       "      <td>NaN</td>\n",
       "    </tr>\n",
       "    <tr>\n",
       "      <th>Vietnamese</th>\n",
       "      <td>18.5</td>\n",
       "      <td>NaN</td>\n",
       "    </tr>\n",
       "  </tbody>\n",
       "</table>\n",
       "</div>"
      ],
      "text/plain": [
       "                  usd_avg  usd_avg\n",
       "American             18.5     37.0\n",
       "Argentinian          37.0      NaN\n",
       "Asian                37.0      NaN\n",
       "Austrian             37.0     62.0\n",
       "Barbecue             18.5      NaN\n",
       "Belgian              37.0      NaN\n",
       "Burmese              18.5      NaN\n",
       "Chinese              18.5     37.0\n",
       "Contemporary         18.5     62.0\n",
       "Deli                 18.5      NaN\n",
       "Eastern European     18.5      NaN\n",
       "Ethiopian            18.5      NaN\n",
       "European            112.5      NaN\n",
       "French               37.0     62.0\n",
       "Fusion               37.0     62.0\n",
       "Gastropub            37.0     62.0\n",
       "Greek                18.5      NaN\n",
       "Indian               18.5     37.0\n",
       "International        37.0      NaN\n",
       "Italian              18.5    112.5\n",
       "Jamaican             37.0      NaN\n",
       "Japanese             18.5     62.0\n",
       "Korean               18.5    112.5\n",
       "Latin American       37.0      NaN\n",
       "Lebanese             18.5      NaN\n",
       "Malaysian            18.5      NaN\n",
       "Mediterranean        37.0     62.0\n",
       "Mexican              18.5      NaN\n",
       "Middle Eastern       37.0      NaN\n",
       "Moroccan             18.5      NaN\n",
       "North African        18.5      NaN\n",
       "Persian              37.0      NaN\n",
       "Peruvian             37.0      NaN\n",
       "Pizza                18.5      NaN\n",
       "Portuguese           37.0      NaN\n",
       "Russian              37.0      NaN\n",
       "Scandinavian        112.5    112.5\n",
       "Seafood              37.0    112.5\n",
       "South African        37.0      NaN\n",
       "Southern             18.5      NaN\n",
       "Spanish              18.5     62.0\n",
       "Sri Lankan           18.5      NaN\n",
       "Steakhouse           37.0    112.5\n",
       "Thai                 18.5     37.0\n",
       "Turkish              37.0      NaN\n",
       "Vegan                37.0      NaN\n",
       "Vegetarian           37.0      NaN\n",
       "Vietnamese           18.5      NaN"
      ]
     },
     "execution_count": 200,
     "metadata": {},
     "output_type": "execute_result"
    }
   ],
   "source": [
    "pd.concat([cuisine_all, cuisine_stars],axis=1)"
   ]
  },
  {
   "cell_type": "code",
   "execution_count": 256,
   "metadata": {
    "collapsed": false
   },
   "outputs": [],
   "source": [
    "def findCountry(x):\n",
    "    if re.search(\"[9]{1}[0-9]{4}\",x[-5:]):\n",
    "        return \"CA\"\n",
    "    elif re.search(\"[1]{1}[0-9]{4}\",x[-5:]):\n",
    "        return \"NY\"\n",
    "    elif re.search(\"[6]{1}[0-9]{4}\",x[-5:]):\n",
    "        return \"IL\"\n",
    "    else:\n",
    "        return \"NA\""
   ]
  },
  {
   "cell_type": "code",
   "execution_count": 253,
   "metadata": {
    "collapsed": false
   },
   "outputs": [],
   "source": [
    "combined[\"State\"] = combined[\"address\"].apply(findCountry)"
   ]
  },
  {
   "cell_type": "code",
   "execution_count": 483,
   "metadata": {
    "collapsed": false
   },
   "outputs": [],
   "source": [
    "ny = combined[combined[\"State\"]==\"NY\"]\n",
    "ny = ny.reset_index(drop=True)"
   ]
  },
  {
   "cell_type": "code",
   "execution_count": null,
   "metadata": {
    "collapsed": true
   },
   "outputs": [],
   "source": [
    "ca = combined[(combined[\"State\"]==\"CA\")]\n",
    "ca = ca.reset_index(drop=True)"
   ]
  },
  {
   "cell_type": "code",
   "execution_count": 460,
   "metadata": {
    "collapsed": true
   },
   "outputs": [],
   "source": [
    "ny_goog = pd.DataFrame(columns=[\"name\",\"rev\",\"price\"])"
   ]
  },
  {
   "cell_type": "code",
   "execution_count": 480,
   "metadata": {
    "collapsed": false
   },
   "outputs": [],
   "source": [
    "#do this for all cities in the US\n",
    "driver = webdriver.Chrome('/users/Sheena/Documents/chromedriver')  # Optional argument, if not specified will search path.\n",
    "driver.get('http://www.google.com/xhtml');\n",
    "sleeper(3.13)\n",
    "\n",
    "search_box = driver.find_element_by_name('q')\n",
    "#make sure empty\n",
    "for x in ny[\"name\"].values.tolist():\n",
    "    search_box.clear()\n",
    "    sleeper(0.45)\n",
    "    try:\n",
    "        search_box.send_keys(x.decode(\"utf-8\"))\n",
    "        sleeper(1.37)\n",
    "        search_box.send_keys(\" restaurant new york\")\n",
    "        sleeper(1.04)\n",
    "        search_box.submit()\n",
    "    except:\n",
    "        search_box.send_keys(x.decode(\"ascii\"))\n",
    "        sleeper(1.37)\n",
    "        search_box.send_keys(\" restaurant new york\")\n",
    "        sleeper(1.32)\n",
    "        search_box.submit()\n",
    "    sleeper(3.25)\n",
    "    try:\n",
    "        rev = driver.find_element_by_class_name(\"_A8k\").text\n",
    "    except:\n",
    "        rev=\"None\"\n",
    "\n",
    "    try:\n",
    "        price = driver.find_element_by_class_name(\"_mr\").text\n",
    "    except:\n",
    "        price=\"None\"\n",
    "    sleeper(2.99)\n",
    "\n",
    "    ny_goog.loc[len(ny_goog)] = [x, rev, price]"
   ]
  },
  {
   "cell_type": "code",
   "execution_count": 508,
   "metadata": {
    "collapsed": false
   },
   "outputs": [],
   "source": [
    "def checkName(x):\n",
    "    x = str(x).replace(\"\\n\", \"\")\n",
    "    if x[-17:].lower()=='websitedirections':\n",
    "        return x[:-17]\n",
    "    else:\n",
    "        return x"
   ]
  },
  {
   "cell_type": "code",
   "execution_count": 449,
   "metadata": {
    "collapsed": true
   },
   "outputs": [],
   "source": [
    "ca_merge.to_csv(\"cali_merged.csv\",index=False,encoding=\"utf-8\")"
   ]
  },
  {
   "cell_type": "code",
   "execution_count": 482,
   "metadata": {
    "collapsed": true
   },
   "outputs": [],
   "source": [
    "ny_goog.to_csv(\"ny_goog.csv\",index=False,encoding=\"utf-8\")"
   ]
  },
  {
   "cell_type": "code",
   "execution_count": 491,
   "metadata": {
    "collapsed": false
   },
   "outputs": [],
   "source": [
    "ny_goog = pd.read_csv(\"ny_goog.csv\")"
   ]
  },
  {
   "cell_type": "code",
   "execution_count": 510,
   "metadata": {
    "collapsed": false
   },
   "outputs": [],
   "source": [
    "ny_goog.name = ny_goog.name.apply(checkName)\n",
    "#drop duplicates\n",
    "ny_goog.drop_duplicates(inplace=True)"
   ]
  },
  {
   "cell_type": "code",
   "execution_count": 515,
   "metadata": {
    "collapsed": false
   },
   "outputs": [],
   "source": [
    "#remove those that errored out\n",
    "ny_goog = ny_goog[ny_goog.name!=\"None\"].copy(deep=True)\n",
    "ny_goog.dropna(inplace=True)"
   ]
  },
  {
   "cell_type": "code",
   "execution_count": 525,
   "metadata": {
    "collapsed": false
   },
   "outputs": [],
   "source": [
    "#separate rev \n",
    "ny_goog[\"rating\"] = ny_goog[\"rev\"].apply(lambda x: x.split(\"\\n\")[0])"
   ]
  },
  {
   "cell_type": "code",
   "execution_count": 526,
   "metadata": {
    "collapsed": false
   },
   "outputs": [],
   "source": [
    "for x,y in zip(ny_goog[\"name\"].values.tolist(), ny_goog[\"rev\"].values.tolist()):\n",
    "    if type(y) != str:\n",
    "        print x"
   ]
  },
  {
   "cell_type": "code",
   "execution_count": 531,
   "metadata": {
    "collapsed": false
   },
   "outputs": [
    {
     "data": {
      "text/plain": [
       "0        $$\n",
       "1      $$$$\n",
       "2        $$\n",
       "3        $$\n",
       "4        $$\n",
       "5       $$$\n",
       "6        $$\n",
       "8        $$\n",
       "9       $$$\n",
       "10       $$\n",
       "11      $$$\n",
       "12     $$$$\n",
       "13      $$$\n",
       "14     $$$$\n",
       "15       $$\n",
       "16      $$$\n",
       "17      $$$\n",
       "18      $$$\n",
       "19       $$\n",
       "21      $$$\n",
       "22       $$\n",
       "23       $$\n",
       "24       $$\n",
       "25     $$$$\n",
       "26      $$$\n",
       "27       $$\n",
       "28      $$$\n",
       "29       $$\n",
       "30      $$$\n",
       "31      $$$\n",
       "       ... \n",
       "526      $$\n",
       "527      $$\n",
       "529      $$\n",
       "530      $$\n",
       "531      $$\n",
       "532     $$$\n",
       "534      $$\n",
       "535      $$\n",
       "536     $$$\n",
       "537      $$\n",
       "538     $$$\n",
       "539    $$$$\n",
       "540      $$\n",
       "541     $$$\n",
       "542       $\n",
       "543      $$\n",
       "544     $$$\n",
       "545     $$$\n",
       "546      $$\n",
       "547      $$\n",
       "548      $$\n",
       "549      $$\n",
       "550       $\n",
       "551      $$\n",
       "552       $\n",
       "553       $\n",
       "554      $$\n",
       "555      $$\n",
       "556      $$\n",
       "557      $$\n",
       "Name: price, dtype: object"
      ]
     },
     "execution_count": 531,
     "metadata": {},
     "output_type": "execute_result"
    }
   ],
   "source": [
    "ny_goog[\"price\"].apply(lambda x: x.split(\" · \")[0])"
   ]
  },
  {
   "cell_type": "code",
   "execution_count": 532,
   "metadata": {
    "collapsed": true
   },
   "outputs": [],
   "source": [
    "ch = combined[combined[\"State\"]==\"IL\"]\n",
    "ch = ch.reset_index(drop=True)"
   ]
  },
  {
   "cell_type": "code",
   "execution_count": 537,
   "metadata": {
    "collapsed": true
   },
   "outputs": [],
   "source": [
    "ch_goog = pd.DataFrame(columns=[\"name\",\"rev\",\"price\"])"
   ]
  },
  {
   "cell_type": "code",
   "execution_count": null,
   "metadata": {
    "collapsed": true
   },
   "outputs": [],
   "source": [
    "#chicago time!\n",
    "driver = webdriver.Chrome('/users/Sheena/Documents/chromedriver')  # Optional argument, if not specified will search path.\n",
    "driver.get('http://www.google.com/xhtml');\n",
    "sleeper(2.13)\n",
    "\n",
    "search_box = driver.find_element_by_name('q')\n",
    "#make sure empty\n",
    "for x in ch[\"name\"].values.tolist():\n",
    "    search_box.clear()\n",
    "    sleeper(1.45)\n",
    "    try:\n",
    "        search_box.send_keys(x.decode(\"utf-8\"))\n",
    "        sleeper(0.37)\n",
    "        search_box.send_keys(\" restaurant Chicago\")\n",
    "        sleeper(1.90)\n",
    "        search_box.submit()\n",
    "    except:\n",
    "        search_box.send_keys(x.decode(\"ascii\"))\n",
    "        sleeper(0.37)\n",
    "        search_box.send_keys(\" restaurant Chicago\")\n",
    "        sleeper(1.90)\n",
    "        search_box.submit()\n",
    "    sleeper(2.65)\n",
    "    try:\n",
    "        rev = driver.find_element_by_class_name(\"_A8k\").text\n",
    "    except:\n",
    "        rev=\"None\"\n",
    "\n",
    "    try:\n",
    "        price = driver.find_element_by_class_name(\"_mr\").text\n",
    "    except:\n",
    "        price=\"None\"\n",
    "    sleeper(4.0)\n",
    "\n",
    "    ch_goog.loc[len(ch_goog)] = [x, rev, price]"
   ]
  },
  {
   "cell_type": "code",
   "execution_count": 557,
   "metadata": {
    "collapsed": false
   },
   "outputs": [],
   "source": [
    "ca_goog.to_csv(\"ca_goog.csv\",index=False,encoding=\"utf-8\")"
   ]
  },
  {
   "cell_type": "code",
   "execution_count": 808,
   "metadata": {
    "collapsed": false
   },
   "outputs": [],
   "source": [
    "ch_goog.to_csv(\"ch_goog3.csv\",index=False,encoding=\"utf-8\")"
   ]
  },
  {
   "cell_type": "code",
   "execution_count": 565,
   "metadata": {
    "collapsed": true
   },
   "outputs": [],
   "source": [
    "ch_merged.to_csv(\"ch_merged.csv\",index=False,encoding=\"utf-8\")"
   ]
  },
  {
   "cell_type": "code",
   "execution_count": 642,
   "metadata": {
    "collapsed": false
   },
   "outputs": [],
   "source": [
    "ny_merged = ny.merge(ny_goog,how=\"left\",on=\"name\")"
   ]
  },
  {
   "cell_type": "code",
   "execution_count": 575,
   "metadata": {
    "collapsed": false
   },
   "outputs": [],
   "source": [
    "cali = pd.read_csv(\"cali_merged.csv\")\n",
    "cali.dropna(inplace=True)"
   ]
  },
  {
   "cell_type": "code",
   "execution_count": 588,
   "metadata": {
    "collapsed": false
   },
   "outputs": [],
   "source": [
    "cooking_count = pd.DataFrame(us.cooking_type.value_counts())"
   ]
  },
  {
   "cell_type": "code",
   "execution_count": 644,
   "metadata": {
    "collapsed": true
   },
   "outputs": [],
   "source": [
    "dc = pd.read_csv(\"dc_google.csv\")"
   ]
  },
  {
   "cell_type": "code",
   "execution_count": 667,
   "metadata": {
    "collapsed": false
   },
   "outputs": [],
   "source": [
    "def splitRPC(x):\n",
    "    if len(x.split(\" \"))>1:\n",
    "        return \" \".join(x.split(\" \")[2:])\n",
    "    else:\n",
    "        return x"
   ]
  },
  {
   "cell_type": "code",
   "execution_count": 669,
   "metadata": {
    "collapsed": false
   },
   "outputs": [],
   "source": [
    "ch_merged[\"cuisine\"] = ch_merged[\"price\"].apply(splitRPC)"
   ]
  },
  {
   "cell_type": "code",
   "execution_count": 672,
   "metadata": {
    "collapsed": false
   },
   "outputs": [],
   "source": [
    "ch_merged[\"pr\"] = ch_merged[\"price\"].apply(lambda x: x.split(\" \")[0])"
   ]
  },
  {
   "cell_type": "code",
   "execution_count": 679,
   "metadata": {
    "collapsed": false
   },
   "outputs": [],
   "source": [
    "ny_goog[\"cuisine\"] = ny_goog[\"price\"].apply(splitRPC)"
   ]
  },
  {
   "cell_type": "code",
   "execution_count": 680,
   "metadata": {
    "collapsed": false
   },
   "outputs": [],
   "source": [
    "ny_goog[\"pr\"] = ny_goog[\"price\"].apply(lambda x: x.split(\" \")[0])"
   ]
  },
  {
   "cell_type": "code",
   "execution_count": 683,
   "metadata": {
    "collapsed": false
   },
   "outputs": [],
   "source": [
    "ny_g = ny_goog.drop([\"rev\",\"price\"],axis=1).copy(deep=True)"
   ]
  },
  {
   "cell_type": "code",
   "execution_count": 684,
   "metadata": {
    "collapsed": true
   },
   "outputs": [],
   "source": [
    "ny_merge = ny.merge(ny_g,how=\"left\", on=\"name\")"
   ]
  },
  {
   "cell_type": "code",
   "execution_count": 688,
   "metadata": {
    "collapsed": false
   },
   "outputs": [],
   "source": [
    "ny_merge.dropna(inplace=True)"
   ]
  },
  {
   "cell_type": "code",
   "execution_count": 691,
   "metadata": {
    "collapsed": false
   },
   "outputs": [],
   "source": [
    "ny_merge.reset_index(drop=True,inplace=True)"
   ]
  },
  {
   "cell_type": "code",
   "execution_count": 696,
   "metadata": {
    "collapsed": false
   },
   "outputs": [],
   "source": [
    "#separate rev \n",
    "ny_merge[\"rating\"] = ny_merge[\"rating\"].apply(lambda x: x.split(\"\\n\")[0])"
   ]
  },
  {
   "cell_type": "code",
   "execution_count": 700,
   "metadata": {
    "collapsed": false
   },
   "outputs": [],
   "source": [
    "ch_merged[\"rating\"] = ch_merged[\"rev\"].apply(lambda x: x.split(\"\\n\")[0])"
   ]
  },
  {
   "cell_type": "code",
   "execution_count": 703,
   "metadata": {
    "collapsed": false
   },
   "outputs": [],
   "source": [
    "ch_merged.drop([\"rev\",\"price\"],axis=1,inplace=True)"
   ]
  },
  {
   "cell_type": "code",
   "execution_count": 706,
   "metadata": {
    "collapsed": false
   },
   "outputs": [],
   "source": [
    "ca_merge.dropna(inplace=True)"
   ]
  },
  {
   "cell_type": "code",
   "execution_count": null,
   "metadata": {
    "collapsed": true
   },
   "outputs": [],
   "source": [
    "ca_merge = ca_merge.rename(columns = {'price':'pr'})"
   ]
  },
  {
   "cell_type": "code",
   "execution_count": 779,
   "metadata": {
    "collapsed": false
   },
   "outputs": [],
   "source": [
    "us_merged = pd.concat([ca_merge,ch_merged,ny_merge])"
   ]
  },
  {
   "cell_type": "code",
   "execution_count": 781,
   "metadata": {
    "collapsed": true
   },
   "outputs": [],
   "source": [
    "def changeToContemporary(x):\n",
    "    if \"New\" in x:\n",
    "        return \"Contemporary\"\n",
    "    elif \"Fine\" in x:\n",
    "        return \"Contemporary\"\n",
    "    else:\n",
    "        return x"
   ]
  },
  {
   "cell_type": "code",
   "execution_count": 782,
   "metadata": {
    "collapsed": false
   },
   "outputs": [],
   "source": [
    "us_merged[\"cuisine\"]=us_merged.cuisine.apply(changeToContemporary)"
   ]
  },
  {
   "cell_type": "code",
   "execution_count": 783,
   "metadata": {
    "collapsed": true
   },
   "outputs": [],
   "source": [
    "def removeRes(x):\n",
    "    if \"Restaurant\" in x:\n",
    "        return x.replace(\"Restaurant\",\"\")\n",
    "    else:\n",
    "        return x"
   ]
  },
  {
   "cell_type": "code",
   "execution_count": 784,
   "metadata": {
    "collapsed": false
   },
   "outputs": [],
   "source": [
    "us_merged[\"cuisine\"]=us_merged.cuisine.apply(removeRes)"
   ]
  },
  {
   "cell_type": "code",
   "execution_count": 785,
   "metadata": {
    "collapsed": false
   },
   "outputs": [],
   "source": [
    "us_merged[\"cuisine\"]=us_merged[\"cuisine\"].apply(lambda x: x.split(\" \")[0])"
   ]
  },
  {
   "cell_type": "code",
   "execution_count": 748,
   "metadata": {
    "collapsed": false
   },
   "outputs": [],
   "source": [
    "cooking_types_michelin = us_merged.cooking_type.value_counts().index.tolist()"
   ]
  },
  {
   "cell_type": "code",
   "execution_count": 788,
   "metadata": {
    "collapsed": false
   },
   "outputs": [],
   "source": [
    "us_merged.reset_index(drop=True,inplace=True)"
   ]
  },
  {
   "cell_type": "code",
   "execution_count": 789,
   "metadata": {
    "collapsed": false
   },
   "outputs": [],
   "source": [
    "cuisine_missing = [x for x,y in enumerate(us_merged.cuisine.values.tolist()) if y not in cooking_types_michelin ]\n",
    "# for x,y in enumerate(us_merged.cuisine.values.tolist()):\n",
    "#     if y not in cooking_types_michelin:\n",
    "#         print x"
   ]
  },
  {
   "cell_type": "code",
   "execution_count": 796,
   "metadata": {
    "collapsed": false
   },
   "outputs": [],
   "source": [
    "us_merged[\"price\"] = us_merged.pr.map({\"$\":1,\"$$\":2,\"$$$\":3,\"$$$$\":4})"
   ]
  },
  {
   "cell_type": "code",
   "execution_count": null,
   "metadata": {
    "collapsed": true
   },
   "outputs": [],
   "source": [
    "{\"Chinese\":[\"Dim\",\"Dim Sum\",\"Sichuan\",\"Taiwanese\",\"Tea\",\"Tea House\",\"Mandarin\"],\n",
    "\"Mexican\":[\"Taco\"],\n",
    " \"International\":[\"Eclectic\"],\n",
    " \"Latin American\":[\"Nuevo\"],\n",
    " \"Japanese\":[\"Sushi\",\"Ramen\",\"Yakitori\"],\n",
    " \"American\":[\"Diner\",\"Family\",\"Hamburger\",\"Cafe\"]\n",
    "}\n",
    "\n",
    "\n",
    "Taco = Mexican\n",
    "Hamburger = American\n",
    "Diner = American, Deli\n",
    "Eclectic = International\n",
    "Bistro = French2, American2\n",
    "Sushi = Japanese\n",
    "Family = American\n",
    "European = Eastern European\n",
    "Bar = French, American2, Californian2,Gastropub, Seafood\n",
    "Steak=Steakhouse\n",
    "\n",
    "Nuevo = Latin American\n",
    "Cafe = Californian,American\n",
    "Tapas = Spanish\n",
    "Northern = Italian\n",
    "Soul = American\n",
    "Small = Fusion\n",
    "Middle = Middle Eastern\n",
    "Yakitori =Japanese\n",
    "Ramen = Japanese\n",
    "Afghani = Afghan\n",
    "Cajun = Southern\n",
    "Sichuan = Chinese\n",
    "Modern = Contemporary\n",
    "Chicken = Fusion\n",
    "Dim = Chinese\n",
    "Dim Sum = Chinese\n",
    "British = Gastropub\n",
    "Taiwanese = Chinese\n",
    "Tea = Chinese\n",
    "Mandarin = Chinese\n",
    "Jewish = Deli\n",
    "Pub = Greek\n",
    "Sandwich = Deli\n",
    "#926,928,940,942,945,961,971 Japanese Malaysian\n",
    "#None rating\n"
   ]
  },
  {
   "cell_type": "code",
   "execution_count": 806,
   "metadata": {
    "collapsed": false
   },
   "outputs": [],
   "source": [
    "us_merged.to_csv(\"us_merged.csv\",encoding=\"utf-8\",index=False)"
   ]
  },
  {
   "cell_type": "code",
   "execution_count": null,
   "metadata": {
    "collapsed": true
   },
   "outputs": [],
   "source": []
  }
 ],
 "metadata": {
  "kernelspec": {
   "display_name": "Python 2",
   "language": "python",
   "name": "python2"
  },
  "language_info": {
   "codemirror_mode": {
    "name": "ipython",
    "version": 2
   },
   "file_extension": ".py",
   "mimetype": "text/x-python",
   "name": "python",
   "nbconvert_exporter": "python",
   "pygments_lexer": "ipython2",
   "version": "2.7.12"
  }
 },
 "nbformat": 4,
 "nbformat_minor": 0
}
