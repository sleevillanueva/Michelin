{
 "cells": [
  {
   "cell_type": "code",
   "execution_count": 24,
   "metadata": {
    "collapsed": true
   },
   "outputs": [],
   "source": [
    "import urllib\n",
    "import pandas as pd\n",
    "from bs4 import BeautifulSoup\n",
    "import re\n",
    "import time"
   ]
  },
  {
   "cell_type": "code",
   "execution_count": 48,
   "metadata": {
    "collapsed": false
   },
   "outputs": [],
   "source": [
    "uri = \"http://www.andyhayler.com/restaurant-guide?stars_from=2&size=0\"\n",
    "html = urllib.urlopen(uri).read()\n",
    "soup = BeautifulSoup(html,\"html.parser\")"
   ]
  },
  {
   "cell_type": "code",
   "execution_count": 71,
   "metadata": {
    "collapsed": true
   },
   "outputs": [],
   "source": [
    "uri = \"https://www.washingtonian.com/2016/02/08/100-very-best-restaurants/\"\n",
    "html = urllib.urlopen(uri).read()\n",
    "soup = BeautifulSoup(html,\"html.parser\")"
   ]
  },
  {
   "cell_type": "code",
   "execution_count": 63,
   "metadata": {
    "collapsed": true
   },
   "outputs": [],
   "source": [
    "df = pd.DataFrame(columns=[\"name\",\"cuisine\",\"review\",\"price\"])"
   ]
  },
  {
   "cell_type": "code",
   "execution_count": 92,
   "metadata": {
    "collapsed": false
   },
   "outputs": [
    {
     "name": "stdout",
     "output_type": "stream",
     "text": [
      "Fiola Mare DC\n",
      "Komi DC\n",
      "Little Serow DC\n",
      "Convivial DC\n",
      "Rasika and Rasika West End DC\n",
      "Plume DC\n",
      "Bad Saint DC\n",
      "Casa Luca DC\n",
      "Izakaya Seki DC\n",
      "The Source DC\n",
      "Masseria DC\n",
      "Garrison DC\n",
      "Proof DC\n",
      "Maketto DC\n",
      "Blue Duck Tavern DC\n",
      "Bistro Bis DC\n",
      "Central Michel Richard DC\n",
      "Marcel’s DC\n",
      "Rose’s Luxury DC\n",
      "Minibar DC\n",
      "Fiola DC\n",
      "Estadio DC\n",
      "Sushi Capitol DC\n",
      "The Riggsby DC\n",
      "Le Diplomate DC\n",
      "Bibiana DC\n",
      "2Amys DC\n",
      "Obelisk DC\n",
      "DBGB Kitchen and Bar DC\n",
      "Mintwood Place DC\n",
      "The Red Hen DC\n",
      "Iron Gate DC\n",
      "Del Campo DC\n",
      "The Bombay Club DC\n",
      "Thip Khao DC\n",
      "Osteria Morini DC\n",
      "The Dabney DC\n",
      "Momofuku CCDC DC\n",
      "Etto DC\n",
      "Zaytinya DC\n",
      "Ghibellina DC\n",
      "Baby Wale DC\n",
      "Graffiato DC\n",
      "Hank’s Oyster Bar DC\n",
      "Daikaya Ramen DC\n",
      "Crane & Turtle DC\n",
      "Johnny’s Half Shell DC\n",
      "Centrolina DC\n",
      "Toki Underground DC\n",
      "China Chilcano DC\n",
      "G by Mike Isabella DC\n",
      "Chez Billy and Chez Billy Sud DC\n",
      "Equinox DC\n",
      "Et Voila! DC\n",
      "Ardeo & Bardeo DC\n",
      "The Partisan DC\n",
      "Brasserie Beck DC\n",
      "Pearl Dive Oyster Palace DC\n",
      "Doi Moi DC\n",
      "Ripple DC\n",
      "BlackSalt DC\n",
      "Compass Rose DC\n",
      "Lupo Verde DC\n"
     ]
    }
   ],
   "source": [
    "\n",
    "for res in soup.findAll(\"tr\")[1:]:\n",
    "    name = res.find(\"span\",{\"class\":\"name\"}).getText()\n",
    "    for i in res.findAll(\"td\")[3]:\n",
    "        if i==\"DC\":\n",
    "            print name,i"
   ]
  }
 ],
 "metadata": {
  "kernelspec": {
   "display_name": "Python 2",
   "language": "python",
   "name": "python2"
  },
  "language_info": {
   "codemirror_mode": {
    "name": "ipython",
    "version": 2
   },
   "file_extension": ".py",
   "mimetype": "text/x-python",
   "name": "python",
   "nbconvert_exporter": "python",
   "pygments_lexer": "ipython2",
   "version": "2.7.12"
  }
 },
 "nbformat": 4,
 "nbformat_minor": 0
}
